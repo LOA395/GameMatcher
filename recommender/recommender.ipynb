{
 "cells": [
  {
   "cell_type": "code",
   "execution_count": 1,
   "metadata": {},
   "outputs": [],
   "source": [
    "import pandas as pd\n",
    "from sklearn.feature_extraction.text import TfidfVectorizer\n",
    "from sklearn.metrics.pairwise import cosine_similarity\n",
    "import nltk\n",
    "from nltk.corpus import stopwords\n",
    "from nltk.stem import WordNetLemmatizer\n",
    "import re"
   ]
  },
  {
   "cell_type": "code",
   "execution_count": 2,
   "metadata": {},
   "outputs": [],
   "source": [
    "# Cargar los datos de juegos (descripciones)\n",
    "df_juegos = pd.read_csv('../data_extraction/boardgames_10000_juegos.csv')"
   ]
  },
  {
   "cell_type": "code",
   "execution_count": 3,
   "metadata": {},
   "outputs": [
    {
     "data": {
      "text/plain": [
       "Index(['BGGId', 'Name', 'Year_Published', 'Description', 'Min_Players',\n",
       "       'Max_Players', 'Min_Playtime', 'Max_Playtime', 'Average_Rating',\n",
       "       'Bayesian_Average_Rating', 'Number_of_Ratings', 'Mechanics',\n",
       "       'Categories'],\n",
       "      dtype='object')"
      ]
     },
     "execution_count": 3,
     "metadata": {},
     "output_type": "execute_result"
    }
   ],
   "source": [
    "df_juegos.columns"
   ]
  },
  {
   "cell_type": "code",
   "execution_count": 4,
   "metadata": {},
   "outputs": [],
   "source": [
    "# Obtener la descripción de los juegos\n",
    "df_descripciones = df_juegos[['BGGId','Name','Description', 'Mechanics', 'Categories', 'Average_Rating', 'Bayesian_Average_Rating']]  "
   ]
  },
  {
   "cell_type": "code",
   "execution_count": 5,
   "metadata": {},
   "outputs": [
    {
     "name": "stdout",
     "output_type": "stream",
     "text": [
      "<class 'pandas.core.frame.DataFrame'>\n",
      "RangeIndex: 10000 entries, 0 to 9999\n",
      "Data columns (total 7 columns):\n",
      " #   Column                   Non-Null Count  Dtype  \n",
      "---  ------                   --------------  -----  \n",
      " 0   BGGId                    10000 non-null  int64  \n",
      " 1   Name                     10000 non-null  object \n",
      " 2   Description              9992 non-null   object \n",
      " 3   Mechanics                10000 non-null  object \n",
      " 4   Categories               10000 non-null  object \n",
      " 5   Average_Rating           10000 non-null  float64\n",
      " 6   Bayesian_Average_Rating  10000 non-null  float64\n",
      "dtypes: float64(2), int64(1), object(4)\n",
      "memory usage: 547.0+ KB\n"
     ]
    }
   ],
   "source": [
    "df_descripciones.info()"
   ]
  },
  {
   "cell_type": "code",
   "execution_count": 6,
   "metadata": {},
   "outputs": [
    {
     "name": "stdout",
     "output_type": "stream",
     "text": [
      "<class 'pandas.core.frame.DataFrame'>\n",
      "Int64Index: 9992 entries, 0 to 9999\n",
      "Data columns (total 7 columns):\n",
      " #   Column                   Non-Null Count  Dtype  \n",
      "---  ------                   --------------  -----  \n",
      " 0   BGGId                    9992 non-null   int64  \n",
      " 1   Name                     9992 non-null   object \n",
      " 2   Description              9992 non-null   object \n",
      " 3   Mechanics                9992 non-null   object \n",
      " 4   Categories               9992 non-null   object \n",
      " 5   Average_Rating           9992 non-null   float64\n",
      " 6   Bayesian_Average_Rating  9992 non-null   float64\n",
      "dtypes: float64(2), int64(1), object(4)\n",
      "memory usage: 624.5+ KB\n"
     ]
    },
    {
     "name": "stderr",
     "output_type": "stream",
     "text": [
      "C:\\Users\\Laura Ortiz\\AppData\\Local\\Temp\\ipykernel_3276\\1111501472.py:1: SettingWithCopyWarning: \n",
      "A value is trying to be set on a copy of a slice from a DataFrame\n",
      "\n",
      "See the caveats in the documentation: https://pandas.pydata.org/pandas-docs/stable/user_guide/indexing.html#returning-a-view-versus-a-copy\n",
      "  df_descripciones.dropna(inplace=True)\n"
     ]
    }
   ],
   "source": [
    "df_descripciones.dropna(inplace=True)\n",
    "df_descripciones.info()"
   ]
  },
  {
   "cell_type": "code",
   "execution_count": 7,
   "metadata": {},
   "outputs": [
    {
     "data": {
      "text/html": [
       "<div>\n",
       "<style scoped>\n",
       "    .dataframe tbody tr th:only-of-type {\n",
       "        vertical-align: middle;\n",
       "    }\n",
       "\n",
       "    .dataframe tbody tr th {\n",
       "        vertical-align: top;\n",
       "    }\n",
       "\n",
       "    .dataframe thead th {\n",
       "        text-align: right;\n",
       "    }\n",
       "</style>\n",
       "<table border=\"1\" class=\"dataframe\">\n",
       "  <thead>\n",
       "    <tr style=\"text-align: right;\">\n",
       "      <th></th>\n",
       "      <th>BGGId</th>\n",
       "      <th>Name</th>\n",
       "      <th>Description</th>\n",
       "      <th>Mechanics</th>\n",
       "      <th>Categories</th>\n",
       "      <th>Average_Rating</th>\n",
       "      <th>Bayesian_Average_Rating</th>\n",
       "    </tr>\n",
       "  </thead>\n",
       "  <tbody>\n",
       "    <tr>\n",
       "      <th>3650</th>\n",
       "      <td>101555</td>\n",
       "      <td>Cthentacle: At the Mountings of Madness</td>\n",
       "      <td>The second expansion for Call of Cthentacle.  ...</td>\n",
       "      <td>['Hand Management']</td>\n",
       "      <td>['Card Game', 'Collectible Components', 'Expan...</td>\n",
       "      <td>6.33333</td>\n",
       "      <td>0.00000</td>\n",
       "    </tr>\n",
       "    <tr>\n",
       "      <th>9742</th>\n",
       "      <td>257056</td>\n",
       "      <td>Lovelace &amp; Babbage</td>\n",
       "      <td>In Lovelace &amp; Babbage, players adopt the roles...</td>\n",
       "      <td>['Action Queue', 'Pattern Building', 'Push You...</td>\n",
       "      <td>['Industry / Manufacturing', 'Math', 'Number',...</td>\n",
       "      <td>6.67941</td>\n",
       "      <td>5.77417</td>\n",
       "    </tr>\n",
       "    <tr>\n",
       "      <th>73</th>\n",
       "      <td>33412</td>\n",
       "      <td>5150: Illegal Aliens</td>\n",
       "      <td>This is an expansion for the base game 5150.&amp;#...</td>\n",
       "      <td>['Dice Rolling']</td>\n",
       "      <td>['Dice', 'Expansion for Base-game', 'Miniature...</td>\n",
       "      <td>7.36364</td>\n",
       "      <td>0.00000</td>\n",
       "    </tr>\n",
       "    <tr>\n",
       "      <th>1316</th>\n",
       "      <td>233844</td>\n",
       "      <td>Naturvetarna: Skogen</td>\n",
       "      <td>The main title of the Naturvetarna series tran...</td>\n",
       "      <td>[]</td>\n",
       "      <td>[\"Children's Game\", 'Educational', 'Trivia']</td>\n",
       "      <td>2.00000</td>\n",
       "      <td>0.00000</td>\n",
       "    </tr>\n",
       "    <tr>\n",
       "      <th>9333</th>\n",
       "      <td>299493</td>\n",
       "      <td>Väki of the Mountain Tomb</td>\n",
       "      <td>User summary:&amp;#10;&amp;#10;The maps in this set ar...</td>\n",
       "      <td>[]</td>\n",
       "      <td>[]</td>\n",
       "      <td>0.00000</td>\n",
       "      <td>0.00000</td>\n",
       "    </tr>\n",
       "  </tbody>\n",
       "</table>\n",
       "</div>"
      ],
      "text/plain": [
       "       BGGId                                     Name  \\\n",
       "3650  101555  Cthentacle: At the Mountings of Madness   \n",
       "9742  257056                       Lovelace & Babbage   \n",
       "73     33412                     5150: Illegal Aliens   \n",
       "1316  233844                     Naturvetarna: Skogen   \n",
       "9333  299493                Väki of the Mountain Tomb   \n",
       "\n",
       "                                            Description  \\\n",
       "3650  The second expansion for Call of Cthentacle.  ...   \n",
       "9742  In Lovelace & Babbage, players adopt the roles...   \n",
       "73    This is an expansion for the base game 5150.&#...   \n",
       "1316  The main title of the Naturvetarna series tran...   \n",
       "9333  User summary:&#10;&#10;The maps in this set ar...   \n",
       "\n",
       "                                              Mechanics  \\\n",
       "3650                                ['Hand Management']   \n",
       "9742  ['Action Queue', 'Pattern Building', 'Push You...   \n",
       "73                                     ['Dice Rolling']   \n",
       "1316                                                 []   \n",
       "9333                                                 []   \n",
       "\n",
       "                                             Categories  Average_Rating  \\\n",
       "3650  ['Card Game', 'Collectible Components', 'Expan...         6.33333   \n",
       "9742  ['Industry / Manufacturing', 'Math', 'Number',...         6.67941   \n",
       "73    ['Dice', 'Expansion for Base-game', 'Miniature...         7.36364   \n",
       "1316       [\"Children's Game\", 'Educational', 'Trivia']         2.00000   \n",
       "9333                                                 []         0.00000   \n",
       "\n",
       "      Bayesian_Average_Rating  \n",
       "3650                  0.00000  \n",
       "9742                  5.77417  \n",
       "73                    0.00000  \n",
       "1316                  0.00000  \n",
       "9333                  0.00000  "
      ]
     },
     "execution_count": 7,
     "metadata": {},
     "output_type": "execute_result"
    }
   ],
   "source": [
    "df_descripciones.sample(5)"
   ]
  },
  {
   "cell_type": "code",
   "execution_count": 8,
   "metadata": {},
   "outputs": [
    {
     "name": "stderr",
     "output_type": "stream",
     "text": [
      "[nltk_data] Downloading package stopwords to C:\\Users\\Laura\n",
      "[nltk_data]     Ortiz\\AppData\\Roaming\\nltk_data...\n",
      "[nltk_data]   Package stopwords is already up-to-date!\n",
      "[nltk_data] Downloading package wordnet to C:\\Users\\Laura\n",
      "[nltk_data]     Ortiz\\AppData\\Roaming\\nltk_data...\n",
      "[nltk_data]   Package wordnet is already up-to-date!\n",
      "C:\\Users\\Laura Ortiz\\AppData\\Local\\Temp\\ipykernel_3276\\3183920906.py:23: SettingWithCopyWarning: \n",
      "A value is trying to be set on a copy of a slice from a DataFrame.\n",
      "Try using .loc[row_indexer,col_indexer] = value instead\n",
      "\n",
      "See the caveats in the documentation: https://pandas.pydata.org/pandas-docs/stable/user_guide/indexing.html#returning-a-view-versus-a-copy\n",
      "  df_descripciones['Descripcion_limpia'] = df_descripciones['Description'].apply(preprocesar_descripcion)\n"
     ]
    }
   ],
   "source": [
    "# Asegúrate de descargar stopwords y wordnet de nltk\n",
    "nltk.download('stopwords')\n",
    "nltk.download('wordnet')\n",
    "\n",
    "# Función mejorada de preprocesamiento de texto\n",
    "def preprocesar_descripcion(texto):\n",
    "    lemmatizer = WordNetLemmatizer()\n",
    "    stop_words = set(stopwords.words('english'))\n",
    "    \n",
    "    # Eliminar entidades HTML y otros caracteres no deseados\n",
    "    texto = re.sub(r'&#?\\w+;', ' ', texto)  # Reemplazar entidades HTML como &#10; \n",
    "    texto = re.sub(r'\\W+', ' ', texto)  # Eliminar caracteres no alfanuméricos\n",
    "    texto = re.sub(r'\\d+', '', texto)  # Eliminar números\n",
    "    \n",
    "    # Convertir a minúsculas, eliminar stopwords y lematizar (solo si el texto es válido)\n",
    "    if isinstance(texto, str):\n",
    "        palabras = [lemmatizer.lemmatize(palabra) for palabra in texto.lower().split() if palabra not in stop_words]\n",
    "        return \" \".join(palabras)\n",
    "    else:\n",
    "        return \"\"  # Devolver cadena vacía si no es un texto válido\n",
    "\n",
    "# Aplicar el preprocesamiento mejorado a las descripciones\n",
    "df_descripciones['Descripcion_limpia'] = df_descripciones['Description'].apply(preprocesar_descripcion)\n"
   ]
  },
  {
   "cell_type": "code",
   "execution_count": 9,
   "metadata": {},
   "outputs": [
    {
     "name": "stderr",
     "output_type": "stream",
     "text": [
      "C:\\Users\\Laura Ortiz\\AppData\\Local\\Temp\\ipykernel_3276\\2397482331.py:2: SettingWithCopyWarning: \n",
      "A value is trying to be set on a copy of a slice from a DataFrame.\n",
      "Try using .loc[row_indexer,col_indexer] = value instead\n",
      "\n",
      "See the caveats in the documentation: https://pandas.pydata.org/pandas-docs/stable/user_guide/indexing.html#returning-a-view-versus-a-copy\n",
      "  df_descripciones['Mecanicas'] = df_descripciones['Mechanics'].apply(lambda x: ', '.join(x))\n",
      "C:\\Users\\Laura Ortiz\\AppData\\Local\\Temp\\ipykernel_3276\\2397482331.py:3: SettingWithCopyWarning: \n",
      "A value is trying to be set on a copy of a slice from a DataFrame.\n",
      "Try using .loc[row_indexer,col_indexer] = value instead\n",
      "\n",
      "See the caveats in the documentation: https://pandas.pydata.org/pandas-docs/stable/user_guide/indexing.html#returning-a-view-versus-a-copy\n",
      "  df_descripciones['Categorias'] = df_descripciones['Categories'].apply(lambda x: ', '.join(x))\n",
      "C:\\Users\\Laura Ortiz\\AppData\\Local\\Temp\\ipykernel_3276\\2397482331.py:6: SettingWithCopyWarning: \n",
      "A value is trying to be set on a copy of a slice from a DataFrame.\n",
      "Try using .loc[row_indexer,col_indexer] = value instead\n",
      "\n",
      "See the caveats in the documentation: https://pandas.pydata.org/pandas-docs/stable/user_guide/indexing.html#returning-a-view-versus-a-copy\n",
      "  df_descripciones['Descripcion_completa'] = df_descripciones['Descripcion_limpia'] + \" \" + df_descripciones['Mecanicas'] + \" \" + df_descripciones['Categorias']\n"
     ]
    }
   ],
   "source": [
    "# Convertir listas de mecánicas y categorías en cadenas de texto\n",
    "df_descripciones['Mecanicas'] = df_descripciones['Mechanics'].apply(lambda x: ', '.join(x))\n",
    "df_descripciones['Categorias'] = df_descripciones['Categories'].apply(lambda x: ', '.join(x))\n",
    "\n",
    "# Combinar la descripción limpia con las mecánicas y categorías\n",
    "df_descripciones['Descripcion_completa'] = df_descripciones['Descripcion_limpia'] + \" \" + df_descripciones['Mecanicas'] + \" \" + df_descripciones['Categorias']"
   ]
  },
  {
   "cell_type": "code",
   "execution_count": 10,
   "metadata": {},
   "outputs": [],
   "source": [
    "from gensim.models.doc2vec import Doc2Vec, TaggedDocument\n",
    "\n",
    "# Entrenar Doc2Vec usando los índices del DataFrame como etiquetas\n",
    "documents = [TaggedDocument(doc.split(), [idx]) for idx, doc in zip(df_descripciones.index, df_descripciones['Descripcion_completa'])]\n",
    "\n",
    "# Entrenar el modelo Doc2Vec\n",
    "model = Doc2Vec(documents, vector_size=50, window=2, min_count=1, workers=4)\n"
   ]
  },
  {
   "cell_type": "code",
   "execution_count": 11,
   "metadata": {},
   "outputs": [],
   "source": [
    "# Función para recomendar juegos usando Doc2Vec y similaridad del coseno\n",
    "def recomendar_juegos_doc2vec(prompt, df_descripciones, model, top_n=5):\n",
    "    # Preprocesar el prompt y vectorizarlo usando Doc2Vec\n",
    "    prompt_vector = model.infer_vector(prompt.split())\n",
    "\n",
    "    # Obtener los vectores de todos los juegos\n",
    "    vectors = [model.dv[i] for i in range(len(df_descripciones))]\n",
    "\n",
    "    # Calcular la similaridad del coseno entre el prompt y los juegos\n",
    "    cosine_similarities = cosine_similarity([prompt_vector], vectors).flatten()\n",
    "\n",
    "    # Obtener los índices de los juegos con mayor similaridad\n",
    "    indices_recomendados = cosine_similarities.argsort()[-top_n:][::-1]\n",
    "\n",
    "    # Mostrar los juegos recomendados\n",
    "    print(\"Juegos recomendados:\")\n",
    "    for index in indices_recomendados:\n",
    "        print(f\"{df_descripciones.iloc[index]['Name']} (Similaridad: {cosine_similarities[index]:.4f})\")"
   ]
  },
  {
   "cell_type": "code",
   "execution_count": 12,
   "metadata": {},
   "outputs": [
    {
     "name": "stdout",
     "output_type": "stream",
     "text": [
      "Juegos recomendados:\n",
      "Diamonds Cave (Similaridad: 0.7206)\n",
      "Meisterschirm Das Erbe der Theaterritter (Similaridad: 0.6901)\n",
      "Avalon Haunts 04 (Similaridad: 0.6872)\n",
      "MadWish (Similaridad: 0.6860)\n",
      "Rangers (PRD) (Similaridad: 0.6836)\n"
     ]
    }
   ],
   "source": [
    "# Prompt del usuario\n",
    "prompt_usuario = 'I am looking for a game that is great for solo play and lasts about 30 minutes. I love games with a rich storytelling experience and immersive themes.'\n",
    "# Ejecutar la recomendación usando Doc2Vec\n",
    "recomendar_juegos_doc2vec(prompt_usuario, df_descripciones, model, top_n=5)"
   ]
  },
  {
   "cell_type": "code",
   "execution_count": 16,
   "metadata": {},
   "outputs": [],
   "source": [
    "def recomendar_juegos_doc2vec_con_valoraciones(prompt, df_juegos, model, top_n=5, umbral_similaridad=0.1):\n",
    "    # Preprocesar el prompt y vectorizarlo usando Doc2Vec\n",
    "    prompt_vector = model.infer_vector(prompt.split())\n",
    "\n",
    "    # Obtener los vectores de todos los juegos usando los índices correctos del DataFrame\n",
    "    vectors = [model.dv[idx] for idx in df_descripciones.index]\n",
    "\n",
    "    # Calcular la similaridad del coseno entre el prompt y los juegos\n",
    "    cosine_similarities = cosine_similarity([prompt_vector], vectors).flatten()\n",
    "\n",
    "    # Asegurarse de que las valoraciones coincidan con los juegos vectorizados\n",
    "    valoraciones = df_descripciones.loc[df_descripciones.index.isin(df_descripciones.index), 'Average_Rating'].fillna(0).values\n",
    "\n",
    "    # Asegurar que los tamaños de cosine_similarities y valoraciones coincidan\n",
    "    if len(cosine_similarities) != len(valoraciones):\n",
    "        min_len = min(len(cosine_similarities), len(valoraciones))\n",
    "        cosine_similarities = cosine_similarities[:min_len]\n",
    "        valoraciones = valoraciones[:min_len]\n",
    "\n",
    "    # Crear una métrica combinada (similaridad * valoraciones)\n",
    "    similaridad_ponderada = cosine_similarities * valoraciones\n",
    "\n",
    "    # Filtrar recomendaciones con similaridad negativa o muy baja\n",
    "    indices_validos = [i for i, sim in enumerate(cosine_similarities) if sim > umbral_similaridad]\n",
    "\n",
    "    # Ordenar los juegos con mayor similaridad ponderada\n",
    "    indices_recomendados = sorted(indices_validos, key=lambda i: similaridad_ponderada[i], reverse=True)[:top_n]\n",
    "\n",
    "    # Mostrar los juegos recomendados\n",
    "    print(\"Juegos recomendados (con valoraciones y similaridad del coseno):\")\n",
    "    for index in indices_recomendados:\n",
    "        print(f\"{df_descripciones.iloc[index]['Name']} (Similaridad ponderada: {similaridad_ponderada[index]:.4f}, \"\n",
    "              f\"Similaridad del coseno: {cosine_similarities[index]:.4f}, \"\n",
    "              f\"Valoración: {valoraciones[index]:.2f})\")\n",
    "\n"
   ]
  },
  {
   "cell_type": "code",
   "execution_count": 17,
   "metadata": {},
   "outputs": [],
   "source": [
    "prompt_usuario = 'I am looking for a game that is great for solo play and lasts about 30 minutes. I love games with a rich storytelling experience and immersive themes.'"
   ]
  },
  {
   "cell_type": "code",
   "execution_count": 18,
   "metadata": {},
   "outputs": [
    {
     "name": "stdout",
     "output_type": "stream",
     "text": [
      "Juegos recomendados (con valoraciones y similaridad del coseno):\n",
      "Punctuation Pirates and Their Grammar Galleons (Similaridad ponderada: 7.6275, Similaridad del coseno: 0.7628, Valoración: 10.00)\n",
      "Meanwhile: An Interactive Comic Book (Similaridad ponderada: 6.9099, Similaridad del coseno: 0.6910, Valoración: 10.00)\n",
      "Alida (Similaridad ponderada: 6.8140, Similaridad del coseno: 0.6814, Valoración: 10.00)\n",
      "Goblinville Gazette #3: Mutagen Trail / Picaresque (Similaridad ponderada: 6.7806, Similaridad del coseno: 0.7534, Valoración: 9.00)\n",
      "Touring Rock Band 2 (Similaridad ponderada: 6.7744, Similaridad del coseno: 0.7207, Valoración: 9.40)\n"
     ]
    }
   ],
   "source": [
    "# Ejecutar la recomendación usando Doc2Vec con valoraciones ponderadas y umbral\n",
    "recomendar_juegos_doc2vec_con_valoraciones(prompt_usuario, df_descripciones, model, top_n=5, umbral_similaridad=0.1)"
   ]
  },
  {
   "cell_type": "code",
   "execution_count": 25,
   "metadata": {},
   "outputs": [],
   "source": [
    "def recomendar_juegos_doc2vec_con_valoraciones(prompt, df_descripciones, model, top_n=5, umbral_similaridad=0.1, w=0.7):\n",
    "    # Preprocesar el prompt y vectorizarlo usando Doc2Vec\n",
    "    prompt_vector = model.infer_vector(prompt.split())\n",
    "\n",
    "    # Obtener los vectores de todos los juegos usando los índices correctos del DataFrame\n",
    "    vectors = [model.dv[idx] for idx in df_descripciones.index]\n",
    "\n",
    "    # Calcular la similaridad del coseno entre el prompt y los juegos\n",
    "    cosine_similarities = cosine_similarity([prompt_vector], vectors).flatten()\n",
    "\n",
    "    # Asegurarse de que las valoraciones coincidan con los juegos vectorizados\n",
    "    valoraciones = df_descripciones.loc[df_descripciones.index.isin(df_descripciones.index), 'Average_Rating'].fillna(0).values\n",
    "\n",
    "    # Normalizar las valoraciones a una escala de 0 a 1\n",
    "    valoraciones_normalizadas = valoraciones / 10  # Suponiendo que la escala máxima es 10\n",
    "\n",
    "    # Asegurar que los tamaños de cosine_similarities y valoraciones coincidan\n",
    "    if len(cosine_similarities) != len(valoraciones):\n",
    "        min_len = min(len(cosine_similarities), len(valoraciones))\n",
    "        cosine_similarities = cosine_similarities[:min_len]\n",
    "        valoraciones_normalizadas = valoraciones_normalizadas[:min_len]\n",
    "\n",
    "    # Crear una métrica ponderada que priorice más la similaridad del coseno\n",
    "    similaridad_ponderada = (cosine_similarities * w) + (valoraciones_normalizadas * (1 - w))\n",
    "\n",
    "    # Filtrar recomendaciones con similaridad negativa o muy baja\n",
    "    indices_validos = [i for i, sim in enumerate(cosine_similarities) if sim > umbral_similaridad]\n",
    "\n",
    "    # Ordenar los juegos con mayor similaridad ponderada\n",
    "    indices_recomendados = sorted(indices_validos, key=lambda i: similaridad_ponderada[i], reverse=True)[:top_n]\n",
    "\n",
    "    # Mostrar los juegos recomendados\n",
    "    print(f\"Juegos recomendados (priorizando similaridad del coseno):\")\n",
    "    for index in indices_recomendados:\n",
    "        print(f\"{df_descripciones.iloc[index]['Name']} (Similaridad ponderada: {similaridad_ponderada[index]:.4f}, \"\n",
    "              f\"Similaridad del coseno: {cosine_similarities[index]:.4f}, \"\n",
    "              f\"Valoración: {valoraciones[index]:.2f})\")\n"
   ]
  },
  {
   "cell_type": "code",
   "execution_count": 26,
   "metadata": {},
   "outputs": [
    {
     "name": "stdout",
     "output_type": "stream",
     "text": [
      "Juegos recomendados (priorizando similaridad del coseno):\n",
      "Kinect Sesame Street TV (Similaridad ponderada: 0.7813, Similaridad del coseno: 0.7733, Valoración: 8.00)\n",
      "Holiday Heroes (Similaridad ponderada: 0.7756, Similaridad del coseno: 0.7652, Valoración: 8.00)\n",
      "Meanwhile: An Interactive Comic Book (Similaridad ponderada: 0.7477, Similaridad del coseno: 0.6395, Valoración: 10.00)\n",
      "SORD PF (Similaridad ponderada: 0.7473, Similaridad del coseno: 0.7247, Valoración: 8.00)\n",
      "The Way to Play (Similaridad ponderada: 0.7321, Similaridad del coseno: 0.7191, Valoración: 7.62)\n"
     ]
    }
   ],
   "source": [
    "# Ejecutar la recomendación priorizando la similaridad del coseno (peso w = 0.7)\n",
    "recomendar_juegos_doc2vec_con_valoraciones(prompt_usuario, df_descripciones, model, top_n=5, umbral_similaridad=0.1, w=0.7)"
   ]
  }
 ],
 "metadata": {
  "kernelspec": {
   "display_name": "base",
   "language": "python",
   "name": "python3"
  },
  "language_info": {
   "codemirror_mode": {
    "name": "ipython",
    "version": 3
   },
   "file_extension": ".py",
   "mimetype": "text/x-python",
   "name": "python",
   "nbconvert_exporter": "python",
   "pygments_lexer": "ipython3",
   "version": "3.9.19"
  }
 },
 "nbformat": 4,
 "nbformat_minor": 2
}
