{
 "cells": [
  {
   "cell_type": "markdown",
   "metadata": {},
   "source": [
    "# Sistema de Recomendación de Juegos de Mesa\n",
    "\n",
    "Este notebook implementa un sistema de recomendación de juegos de mesa basado en **Doc2Vec** y medidas de **similaridad del coseno**. El sistema puede personalizarse para tener en cuenta las valoraciones de los usuarios de los juegos o basarse únicamente en la similaridad textual.\n",
    "\n"
   ]
  },
  {
   "cell_type": "markdown",
   "metadata": {},
   "source": [
    "## Cargar Librerías y Definir Funciones\n",
    "Primero, se cargan las librerías necesarias, como pandas, gensim para trabajar con Doc2Vec, y algunas funciones auxiliares desde un archivo externo (recommender.py)."
   ]
  },
  {
   "cell_type": "code",
   "execution_count": 1,
   "metadata": {},
   "outputs": [],
   "source": [
    "import pandas as pd\n",
    "from sklearn.metrics.pairwise import cosine_similarity\n",
    "from gensim.models.doc2vec import Doc2Vec, TaggedDocument\n",
    "import warnings\n",
    "import ast\n",
    "from recommender import *\n",
    "warnings.filterwarnings('ignore')"
   ]
  },
  {
   "cell_type": "markdown",
   "metadata": {},
   "source": [
    "## Cargar los Datos\n",
    "A continuación, cargamos el archivo CSV que contiene la información de los juegos de mesa, incluyendo descripciones, mecánicas, categorías y valoraciones."
   ]
  },
  {
   "cell_type": "code",
   "execution_count": 2,
   "metadata": {},
   "outputs": [],
   "source": [
    "# Cargar los datos de juegos (descripciones)\n",
    "df_juegos = pd.read_csv('../data/raw/boardgames_10000_juegos.csv')"
   ]
  },
  {
   "cell_type": "code",
   "execution_count": 3,
   "metadata": {},
   "outputs": [
    {
     "data": {
      "text/plain": [
       "Index(['BGGId', 'Name', 'Year_Published', 'Description', 'Min_Players',\n",
       "       'Max_Players', 'Min_Playtime', 'Max_Playtime', 'Average_Rating',\n",
       "       'Bayesian_Average_Rating', 'Number_of_Ratings', 'Mechanics',\n",
       "       'Categories'],\n",
       "      dtype='object')"
      ]
     },
     "execution_count": 3,
     "metadata": {},
     "output_type": "execute_result"
    }
   ],
   "source": [
    "df_juegos.columns"
   ]
  },
  {
   "cell_type": "code",
   "execution_count": 4,
   "metadata": {},
   "outputs": [],
   "source": [
    "# Obtener la descripción de los juegos\n",
    "df_descripciones = df_juegos[['BGGId','Name','Description', 'Mechanics', 'Categories', 'Average_Rating', 'Bayesian_Average_Rating']]  "
   ]
  },
  {
   "cell_type": "code",
   "execution_count": 5,
   "metadata": {},
   "outputs": [
    {
     "name": "stdout",
     "output_type": "stream",
     "text": [
      "<class 'pandas.core.frame.DataFrame'>\n",
      "RangeIndex: 10000 entries, 0 to 9999\n",
      "Data columns (total 7 columns):\n",
      " #   Column                   Non-Null Count  Dtype  \n",
      "---  ------                   --------------  -----  \n",
      " 0   BGGId                    10000 non-null  int64  \n",
      " 1   Name                     10000 non-null  object \n",
      " 2   Description              9992 non-null   object \n",
      " 3   Mechanics                10000 non-null  object \n",
      " 4   Categories               10000 non-null  object \n",
      " 5   Average_Rating           10000 non-null  float64\n",
      " 6   Bayesian_Average_Rating  10000 non-null  float64\n",
      "dtypes: float64(2), int64(1), object(4)\n",
      "memory usage: 547.0+ KB\n"
     ]
    }
   ],
   "source": [
    "df_descripciones.info()"
   ]
  },
  {
   "cell_type": "code",
   "execution_count": 6,
   "metadata": {},
   "outputs": [
    {
     "name": "stdout",
     "output_type": "stream",
     "text": [
      "<class 'pandas.core.frame.DataFrame'>\n",
      "Index: 9992 entries, 0 to 9999\n",
      "Data columns (total 7 columns):\n",
      " #   Column                   Non-Null Count  Dtype  \n",
      "---  ------                   --------------  -----  \n",
      " 0   BGGId                    9992 non-null   int64  \n",
      " 1   Name                     9992 non-null   object \n",
      " 2   Description              9992 non-null   object \n",
      " 3   Mechanics                9992 non-null   object \n",
      " 4   Categories               9992 non-null   object \n",
      " 5   Average_Rating           9992 non-null   float64\n",
      " 6   Bayesian_Average_Rating  9992 non-null   float64\n",
      "dtypes: float64(2), int64(1), object(4)\n",
      "memory usage: 624.5+ KB\n"
     ]
    }
   ],
   "source": [
    "df_descripciones.dropna(inplace=True)\n",
    "df_descripciones.info()"
   ]
  },
  {
   "cell_type": "code",
   "execution_count": 7,
   "metadata": {},
   "outputs": [
    {
     "data": {
      "text/html": [
       "<div>\n",
       "<style scoped>\n",
       "    .dataframe tbody tr th:only-of-type {\n",
       "        vertical-align: middle;\n",
       "    }\n",
       "\n",
       "    .dataframe tbody tr th {\n",
       "        vertical-align: top;\n",
       "    }\n",
       "\n",
       "    .dataframe thead th {\n",
       "        text-align: right;\n",
       "    }\n",
       "</style>\n",
       "<table border=\"1\" class=\"dataframe\">\n",
       "  <thead>\n",
       "    <tr style=\"text-align: right;\">\n",
       "      <th></th>\n",
       "      <th>BGGId</th>\n",
       "      <th>Name</th>\n",
       "      <th>Description</th>\n",
       "      <th>Mechanics</th>\n",
       "      <th>Categories</th>\n",
       "      <th>Average_Rating</th>\n",
       "      <th>Bayesian_Average_Rating</th>\n",
       "    </tr>\n",
       "  </thead>\n",
       "  <tbody>\n",
       "    <tr>\n",
       "      <th>590</th>\n",
       "      <td>99553</td>\n",
       "      <td>The Shade of Zombie</td>\n",
       "      <td>The Shade of Zombie is a merger between game o...</td>\n",
       "      <td>['Open Drafting']</td>\n",
       "      <td>['Zombies']</td>\n",
       "      <td>0.00000</td>\n",
       "      <td>0.00000</td>\n",
       "    </tr>\n",
       "    <tr>\n",
       "      <th>8571</th>\n",
       "      <td>173334</td>\n",
       "      <td>Venture Hold: A Dungeon Adventure</td>\n",
       "      <td>From publisher blurb:&amp;#10;&amp;#10;Adventure Await...</td>\n",
       "      <td>[]</td>\n",
       "      <td>[]</td>\n",
       "      <td>0.00000</td>\n",
       "      <td>0.00000</td>\n",
       "    </tr>\n",
       "    <tr>\n",
       "      <th>7403</th>\n",
       "      <td>46170</td>\n",
       "      <td>Barony of the Damned</td>\n",
       "      <td>An adventure set in cursed Mousillon, Bretonni...</td>\n",
       "      <td>[]</td>\n",
       "      <td>[]</td>\n",
       "      <td>7.55952</td>\n",
       "      <td>6.62624</td>\n",
       "    </tr>\n",
       "    <tr>\n",
       "      <th>3907</th>\n",
       "      <td>231497</td>\n",
       "      <td>Wild Water Adrenaline</td>\n",
       "      <td>User Summary&amp;#10;&amp;#10;A kayak racing game.&amp;#10...</td>\n",
       "      <td>[]</td>\n",
       "      <td>[]</td>\n",
       "      <td>0.00000</td>\n",
       "      <td>0.00000</td>\n",
       "    </tr>\n",
       "    <tr>\n",
       "      <th>6441</th>\n",
       "      <td>298201</td>\n",
       "      <td>100 Shadow Lord Kinfolk</td>\n",
       "      <td>From publisher blurb:&amp;#10;&amp;#10;Within this boo...</td>\n",
       "      <td>[]</td>\n",
       "      <td>[]</td>\n",
       "      <td>0.00000</td>\n",
       "      <td>0.00000</td>\n",
       "    </tr>\n",
       "  </tbody>\n",
       "</table>\n",
       "</div>"
      ],
      "text/plain": [
       "       BGGId                               Name  \\\n",
       "590    99553                The Shade of Zombie   \n",
       "8571  173334  Venture Hold: A Dungeon Adventure   \n",
       "7403   46170               Barony of the Damned   \n",
       "3907  231497              Wild Water Adrenaline   \n",
       "6441  298201            100 Shadow Lord Kinfolk   \n",
       "\n",
       "                                            Description          Mechanics  \\\n",
       "590   The Shade of Zombie is a merger between game o...  ['Open Drafting']   \n",
       "8571  From publisher blurb:&#10;&#10;Adventure Await...                 []   \n",
       "7403  An adventure set in cursed Mousillon, Bretonni...                 []   \n",
       "3907  User Summary&#10;&#10;A kayak racing game.&#10...                 []   \n",
       "6441  From publisher blurb:&#10;&#10;Within this boo...                 []   \n",
       "\n",
       "       Categories  Average_Rating  Bayesian_Average_Rating  \n",
       "590   ['Zombies']         0.00000                  0.00000  \n",
       "8571           []         0.00000                  0.00000  \n",
       "7403           []         7.55952                  6.62624  \n",
       "3907           []         0.00000                  0.00000  \n",
       "6441           []         0.00000                  0.00000  "
      ]
     },
     "execution_count": 7,
     "metadata": {},
     "output_type": "execute_result"
    }
   ],
   "source": [
    "df_descripciones.sample(5)"
   ]
  },
  {
   "cell_type": "markdown",
   "metadata": {},
   "source": [
    "## Preprocesamiento de las Descripciones\n",
    "\n",
    "Este paso se enfoca en preparar las descripciones de los juegos para que puedan ser usadas en el modelo. Incluye:\n",
    "\n",
    "- Unir las Descripciones con Mecánicas y Categorías\n",
    "- Eliminar caracteres especiales.\n",
    "- Convertir listas de mecánicas y categorías a cadenas de texto.\n",
    "- Lematizar y limpiar el texto de las descripciones.\n"
   ]
  },
  {
   "cell_type": "code",
   "execution_count": 8,
   "metadata": {},
   "outputs": [
    {
     "name": "stdout",
     "output_type": "stream",
     "text": [
      "                                           Mechanics  \\\n",
      "0                  ['Action Points', 'Dice Rolling']   \n",
      "1                                                 []   \n",
      "2                                                 []   \n",
      "3  ['Dice Rolling', 'Grid Movement', 'Hexagon Gri...   \n",
      "4                                                 []   \n",
      "\n",
      "                                          Categories  \n",
      "0  ['Ancient', 'Book', 'Medieval', 'Miniatures', ...  \n",
      "1                                                 []  \n",
      "2                                                 []  \n",
      "3                        ['Wargame', 'World War II']  \n",
      "4                                                 []  \n"
     ]
    }
   ],
   "source": [
    "# Convertir cadenas de texto que parecen listas a listas reales\n",
    "df_descripciones['Mechanics'] = df_descripciones['Mechanics'].apply(lambda x: ast.literal_eval(x) if isinstance(x, str) else x)\n",
    "df_descripciones['Categories'] = df_descripciones['Categories'].apply(lambda x: ast.literal_eval(x) if isinstance(x, str) else x)\n",
    "\n",
    "# Verificar si las listas están correctamente formateadas\n",
    "print(df_juegos[['Mechanics', 'Categories']].head())"
   ]
  },
  {
   "cell_type": "code",
   "execution_count": 9,
   "metadata": {},
   "outputs": [],
   "source": [
    "# Convertir listas a cadenas de texto\n",
    "df_descripciones['Mecanicas'] = df_descripciones['Mechanics'].apply(lambda x: ', '.join(x) if isinstance(x, list) and len(x) > 0 else \"\")\n",
    "df_descripciones['Categorias'] = df_descripciones['Categories'].apply(lambda x: ', '.join(x) if isinstance(x, list) and len(x) > 0 else \"\")\n",
    "\n",
    "# Combinar la descripción limpia con las mecánicas y categorías\n",
    "df_descripciones['Descripcion_completa'] = df_descripciones['Description'] + \" \" + df_descripciones['Mecanicas'] + \" \" + df_descripciones['Categorias']"
   ]
  },
  {
   "cell_type": "markdown",
   "metadata": {},
   "source": [
    "**Preprocesamiento del Texto**\n",
    "Lematización y eliminación de stopwords utilizando la función `preprocesar_descripcion`."
   ]
  },
  {
   "cell_type": "code",
   "execution_count": 10,
   "metadata": {},
   "outputs": [],
   "source": [
    "# Aplicar el preprocesamiento mejorado a las descripciones\n",
    "df_descripciones['Descripcion_completa'] = df_descripciones['Descripcion_completa'].apply(preprocesar_descripcion)"
   ]
  },
  {
   "cell_type": "markdown",
   "metadata": {},
   "source": [
    "## Entrenar el Modelo Doc2Vec\n",
    "En esta sección entrenamos el modelo Doc2Vec utilizando las descripciones completas de los juegos de mesa. Cada juego se representa como un documento, con su texto dividido en palabras (tokens) para ser vectorizado."
   ]
  },
  {
   "cell_type": "code",
   "execution_count": 11,
   "metadata": {},
   "outputs": [],
   "source": [
    "# Entrenar Doc2Vec usando los índices del DataFrame como etiquetas\n",
    "documents = [TaggedDocument(doc.split(), [idx]) for idx, doc in zip(df_descripciones.index, df_descripciones['Descripcion_completa'])]"
   ]
  },
  {
   "cell_type": "code",
   "execution_count": 12,
   "metadata": {},
   "outputs": [],
   "source": [
    "# Entrenar el modelo Doc2Vec\n",
    "model = Doc2Vec(documents, vector_size=100, window=5, min_count=1, workers=4, seed = 42)"
   ]
  },
  {
   "cell_type": "markdown",
   "metadata": {},
   "source": [
    "## Recomendación Basada en Similaridad de Coseno\n",
    "\n",
    "En esta parte, se ejecuta una recomendación basada únicamente en la similaridad del coseno entre el prompt del usuario y las descripciones vectorizadas de los juegos de mesa."
   ]
  },
  {
   "cell_type": "code",
   "execution_count": 13,
   "metadata": {},
   "outputs": [],
   "source": [
    "# Prompt del usuario\n",
    "prompt_usuario = \"I enjoy strategy games with high replayability and complex decision-making.\""
   ]
  },
  {
   "cell_type": "code",
   "execution_count": 14,
   "metadata": {},
   "outputs": [
    {
     "name": "stdout",
     "output_type": "stream",
     "text": [
      "Juegos recomendados:\n",
      "Leap Frogs! (Similaridad: 0.8136)\n",
      "Dien Bien Phu (Similaridad: 0.8074)\n",
      "Chaos Drift (Similaridad: 0.7990)\n",
      "Tehox Maps A Path Through Giant Trees (Sunset) (Similaridad: 0.7972)\n",
      "Sparkle Unleashed (Similaridad: 0.7934)\n"
     ]
    }
   ],
   "source": [
    "# Ejecutar la recomendación usando Doc2Vec\n",
    "recomendar_juegos_doc2vec(prompt_usuario, df_descripciones, model, top_n=5)"
   ]
  },
  {
   "cell_type": "markdown",
   "metadata": {},
   "source": [
    "## Recomendación Ponderada (Similaridad y Valoraciones)\n",
    "Este método tiene en cuenta tanto la similaridad textual como las valoraciones de los usuarios. Al combinar estas dos fuentes de información, se pondera la relevancia del juego para el usuario."
   ]
  },
  {
   "cell_type": "code",
   "execution_count": 15,
   "metadata": {},
   "outputs": [
    {
     "name": "stdout",
     "output_type": "stream",
     "text": [
      "Juegos recomendados (priorizando similaridad del coseno):\n",
      "Engage: Spaceship Combat (Similaridad ponderada: 0.8489, Similaridad del coseno: 0.8055, Valoración: 9.50)\n",
      "Amberzine (Issue 11 - 2003) (Similaridad ponderada: 0.8154, Similaridad del coseno: 0.7362, Valoración: 10.00)\n",
      "A Thousand Enemies (Similaridad ponderada: 0.8145, Similaridad del coseno: 0.7350, Valoración: 10.00)\n",
      "Alida (Similaridad ponderada: 0.8047, Similaridad del coseno: 0.7209, Valoración: 10.00)\n",
      "Whirred PLAY (Similaridad ponderada: 0.8031, Similaridad del coseno: 0.7187, Valoración: 10.00)\n"
     ]
    }
   ],
   "source": [
    "# Ejecutar la recomendación priorizando la similaridad del coseno (peso w = 0.7)\n",
    "recomendar_juegos_doc2vec_con_valoraciones(prompt_usuario, df_descripciones, model, top_n=5, umbral_similaridad=0.1, w=0.7)"
   ]
  },
  {
   "cell_type": "markdown",
   "metadata": {},
   "source": [
    "## Conclusiones\n",
    "En este notebook, hemos implementado un sistema de recomendación de juegos de mesa basado en:\n",
    "\n",
    "- Doc2Vec: Para generar representaciones vectoriales de los juegos a partir de su descripción, mecánicas y categorías.\n",
    "- Similaridad del Coseno: Para medir la cercanía entre el perfil del usuario (prompt) y los juegos disponibles.\n",
    "- Valoraciones de los Juegos: Opción para ponderar la recomendación con las valoraciones de los usuarios.\n",
    "\n",
    "\n",
    "Este sistema puede ser fácilmente extendido con nuevas métricas de evaluación o integrarse en una aplicación en tiempo real para recomendaciones personalizadas."
   ]
  }
 ],
 "metadata": {
  "kernelspec": {
   "display_name": "boardgame_env",
   "language": "python",
   "name": "python3"
  },
  "language_info": {
   "codemirror_mode": {
    "name": "ipython",
    "version": 3
   },
   "file_extension": ".py",
   "mimetype": "text/x-python",
   "name": "python",
   "nbconvert_exporter": "python",
   "pygments_lexer": "ipython3",
   "version": "3.9.20"
  }
 },
 "nbformat": 4,
 "nbformat_minor": 2
}
