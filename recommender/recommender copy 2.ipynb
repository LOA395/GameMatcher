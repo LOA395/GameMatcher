{
 "cells": [
  {
   "cell_type": "code",
   "execution_count": 1,
   "metadata": {},
   "outputs": [],
   "source": [
    "import pandas as pd\n",
    "from sklearn.feature_extraction.text import TfidfVectorizer\n",
    "from sklearn.metrics.pairwise import cosine_similarity\n",
    "import nltk\n",
    "from nltk.corpus import stopwords\n",
    "from nltk.stem import WordNetLemmatizer\n",
    "import re\n",
    "import warnings\n",
    "import ast\n",
    "warnings.filterwarnings('ignore')"
   ]
  },
  {
   "cell_type": "code",
   "execution_count": 2,
   "metadata": {},
   "outputs": [],
   "source": [
    "# Cargar los datos de juegos (descripciones)\n",
    "df_juegos = pd.read_csv('../data_extraction/boardgames_10000_juegos.csv')"
   ]
  },
  {
   "cell_type": "code",
   "execution_count": 3,
   "metadata": {},
   "outputs": [
    {
     "data": {
      "text/plain": [
       "Index(['BGGId', 'Name', 'Year_Published', 'Description', 'Min_Players',\n",
       "       'Max_Players', 'Min_Playtime', 'Max_Playtime', 'Average_Rating',\n",
       "       'Bayesian_Average_Rating', 'Number_of_Ratings', 'Mechanics',\n",
       "       'Categories'],\n",
       "      dtype='object')"
      ]
     },
     "execution_count": 3,
     "metadata": {},
     "output_type": "execute_result"
    }
   ],
   "source": [
    "df_juegos.columns"
   ]
  },
  {
   "cell_type": "code",
   "execution_count": 4,
   "metadata": {},
   "outputs": [],
   "source": [
    "# Obtener la descripción de los juegos\n",
    "df_descripciones = df_juegos[['BGGId','Name','Description', 'Mechanics', 'Categories', 'Average_Rating', 'Bayesian_Average_Rating']]  "
   ]
  },
  {
   "cell_type": "code",
   "execution_count": 5,
   "metadata": {},
   "outputs": [
    {
     "name": "stdout",
     "output_type": "stream",
     "text": [
      "<class 'pandas.core.frame.DataFrame'>\n",
      "RangeIndex: 10000 entries, 0 to 9999\n",
      "Data columns (total 7 columns):\n",
      " #   Column                   Non-Null Count  Dtype  \n",
      "---  ------                   --------------  -----  \n",
      " 0   BGGId                    10000 non-null  int64  \n",
      " 1   Name                     10000 non-null  object \n",
      " 2   Description              9992 non-null   object \n",
      " 3   Mechanics                10000 non-null  object \n",
      " 4   Categories               10000 non-null  object \n",
      " 5   Average_Rating           10000 non-null  float64\n",
      " 6   Bayesian_Average_Rating  10000 non-null  float64\n",
      "dtypes: float64(2), int64(1), object(4)\n",
      "memory usage: 547.0+ KB\n"
     ]
    }
   ],
   "source": [
    "df_descripciones.info()"
   ]
  },
  {
   "cell_type": "code",
   "execution_count": 6,
   "metadata": {},
   "outputs": [
    {
     "name": "stdout",
     "output_type": "stream",
     "text": [
      "<class 'pandas.core.frame.DataFrame'>\n",
      "Int64Index: 9992 entries, 0 to 9999\n",
      "Data columns (total 7 columns):\n",
      " #   Column                   Non-Null Count  Dtype  \n",
      "---  ------                   --------------  -----  \n",
      " 0   BGGId                    9992 non-null   int64  \n",
      " 1   Name                     9992 non-null   object \n",
      " 2   Description              9992 non-null   object \n",
      " 3   Mechanics                9992 non-null   object \n",
      " 4   Categories               9992 non-null   object \n",
      " 5   Average_Rating           9992 non-null   float64\n",
      " 6   Bayesian_Average_Rating  9992 non-null   float64\n",
      "dtypes: float64(2), int64(1), object(4)\n",
      "memory usage: 624.5+ KB\n"
     ]
    }
   ],
   "source": [
    "df_descripciones.dropna(inplace=True)\n",
    "df_descripciones.info()"
   ]
  },
  {
   "cell_type": "code",
   "execution_count": 7,
   "metadata": {},
   "outputs": [
    {
     "data": {
      "text/html": [
       "<div>\n",
       "<style scoped>\n",
       "    .dataframe tbody tr th:only-of-type {\n",
       "        vertical-align: middle;\n",
       "    }\n",
       "\n",
       "    .dataframe tbody tr th {\n",
       "        vertical-align: top;\n",
       "    }\n",
       "\n",
       "    .dataframe thead th {\n",
       "        text-align: right;\n",
       "    }\n",
       "</style>\n",
       "<table border=\"1\" class=\"dataframe\">\n",
       "  <thead>\n",
       "    <tr style=\"text-align: right;\">\n",
       "      <th></th>\n",
       "      <th>BGGId</th>\n",
       "      <th>Name</th>\n",
       "      <th>Description</th>\n",
       "      <th>Mechanics</th>\n",
       "      <th>Categories</th>\n",
       "      <th>Average_Rating</th>\n",
       "      <th>Bayesian_Average_Rating</th>\n",
       "    </tr>\n",
       "  </thead>\n",
       "  <tbody>\n",
       "    <tr>\n",
       "      <th>6591</th>\n",
       "      <td>29573</td>\n",
       "      <td>Winnie the Pooh Honey Tree Game</td>\n",
       "      <td>From the box:&amp;#10;&amp;#10;\"The bees have left the...</td>\n",
       "      <td>['Modular Board', 'Point to Point Movement']</td>\n",
       "      <td>['Animals', \"Children's Game\", 'Movies / TV / ...</td>\n",
       "      <td>4.5</td>\n",
       "      <td>0.0</td>\n",
       "    </tr>\n",
       "    <tr>\n",
       "      <th>3742</th>\n",
       "      <td>288680</td>\n",
       "      <td>EFMB: Endless Forms Most Beautiful</td>\n",
       "      <td>Imps exist all around us, just beyond the limi...</td>\n",
       "      <td>[]</td>\n",
       "      <td>[]</td>\n",
       "      <td>0.0</td>\n",
       "      <td>0.0</td>\n",
       "    </tr>\n",
       "    <tr>\n",
       "      <th>357</th>\n",
       "      <td>30368</td>\n",
       "      <td>\"Struggle\"...a game about life</td>\n",
       "      <td>Struggle is a game about life. Each player/tea...</td>\n",
       "      <td>['Dice Rolling']</td>\n",
       "      <td>['Dice', 'Economic', 'Trivia']</td>\n",
       "      <td>3.5</td>\n",
       "      <td>0.0</td>\n",
       "    </tr>\n",
       "    <tr>\n",
       "      <th>538</th>\n",
       "      <td>60356</td>\n",
       "      <td>Purgatorium: Seasons of the Soul</td>\n",
       "      <td>When a character dies, it is a monumental even...</td>\n",
       "      <td>[]</td>\n",
       "      <td>[]</td>\n",
       "      <td>5.0</td>\n",
       "      <td>0.0</td>\n",
       "    </tr>\n",
       "    <tr>\n",
       "      <th>9607</th>\n",
       "      <td>245286</td>\n",
       "      <td>Flash Gordon Archetypes</td>\n",
       "      <td>Publisher's blurb:&amp;#10;&amp;#10;Get to the action ...</td>\n",
       "      <td>[]</td>\n",
       "      <td>[]</td>\n",
       "      <td>7.0</td>\n",
       "      <td>0.0</td>\n",
       "    </tr>\n",
       "  </tbody>\n",
       "</table>\n",
       "</div>"
      ],
      "text/plain": [
       "       BGGId                                Name  \\\n",
       "6591   29573     Winnie the Pooh Honey Tree Game   \n",
       "3742  288680  EFMB: Endless Forms Most Beautiful   \n",
       "357    30368      \"Struggle\"...a game about life   \n",
       "538    60356    Purgatorium: Seasons of the Soul   \n",
       "9607  245286             Flash Gordon Archetypes   \n",
       "\n",
       "                                            Description  \\\n",
       "6591  From the box:&#10;&#10;\"The bees have left the...   \n",
       "3742  Imps exist all around us, just beyond the limi...   \n",
       "357   Struggle is a game about life. Each player/tea...   \n",
       "538   When a character dies, it is a monumental even...   \n",
       "9607  Publisher's blurb:&#10;&#10;Get to the action ...   \n",
       "\n",
       "                                         Mechanics  \\\n",
       "6591  ['Modular Board', 'Point to Point Movement']   \n",
       "3742                                            []   \n",
       "357                               ['Dice Rolling']   \n",
       "538                                             []   \n",
       "9607                                            []   \n",
       "\n",
       "                                             Categories  Average_Rating  \\\n",
       "6591  ['Animals', \"Children's Game\", 'Movies / TV / ...             4.5   \n",
       "3742                                                 []             0.0   \n",
       "357                      ['Dice', 'Economic', 'Trivia']             3.5   \n",
       "538                                                  []             5.0   \n",
       "9607                                                 []             7.0   \n",
       "\n",
       "      Bayesian_Average_Rating  \n",
       "6591                      0.0  \n",
       "3742                      0.0  \n",
       "357                       0.0  \n",
       "538                       0.0  \n",
       "9607                      0.0  "
      ]
     },
     "execution_count": 7,
     "metadata": {},
     "output_type": "execute_result"
    }
   ],
   "source": [
    "df_descripciones.sample(5)"
   ]
  },
  {
   "cell_type": "code",
   "execution_count": 8,
   "metadata": {},
   "outputs": [
    {
     "name": "stderr",
     "output_type": "stream",
     "text": [
      "[nltk_data] Downloading package stopwords to C:\\Users\\Laura\n",
      "[nltk_data]     Ortiz\\AppData\\Roaming\\nltk_data...\n",
      "[nltk_data]   Package stopwords is already up-to-date!\n",
      "[nltk_data] Downloading package wordnet to C:\\Users\\Laura\n",
      "[nltk_data]     Ortiz\\AppData\\Roaming\\nltk_data...\n",
      "[nltk_data]   Package wordnet is already up-to-date!\n"
     ]
    }
   ],
   "source": [
    "# Asegúrate de descargar stopwords y wordnet de nltk\n",
    "nltk.download('stopwords')\n",
    "nltk.download('wordnet')\n",
    "\n",
    "# Función mejorada de preprocesamiento de texto\n",
    "def preprocesar_descripcion(texto):\n",
    "    lemmatizer = WordNetLemmatizer()\n",
    "    stop_words = set(stopwords.words('english'))\n",
    "    \n",
    "    # Eliminar entidades HTML y otros caracteres no deseados\n",
    "    texto = re.sub(r'&#?\\w+;', ' ', texto)  # Reemplazar entidades HTML como &#10; \n",
    "    texto = re.sub(r'\\W+', ' ', texto)  # Eliminar caracteres no alfanuméricos\n",
    "    texto = re.sub(r'\\d+', '', texto)  # Eliminar números\n",
    "    \n",
    "    # Convertir a minúsculas, eliminar stopwords y lematizar (solo si el texto es válido)\n",
    "    if isinstance(texto, str):\n",
    "        palabras = [lemmatizer.lemmatize(palabra) for palabra in texto.lower().split() if palabra not in stop_words]\n",
    "        return \" \".join(palabras)\n",
    "    else:\n",
    "        return \"\"  # Devolver cadena vacía si no es un texto válido\n",
    "\n"
   ]
  },
  {
   "cell_type": "code",
   "execution_count": 9,
   "metadata": {},
   "outputs": [],
   "source": [
    "# Aplicar el preprocesamiento mejorado a las descripciones\n",
    "df_descripciones['Descripcion_completa'] = df_descripciones['Description'].apply(preprocesar_descripcion)"
   ]
  },
  {
   "cell_type": "code",
   "execution_count": 10,
   "metadata": {},
   "outputs": [],
   "source": [
    "from gensim.models.doc2vec import Doc2Vec, TaggedDocument\n",
    "\n",
    "# Entrenar Doc2Vec usando los índices del DataFrame como etiquetas\n",
    "documents = [TaggedDocument(doc.split(), [idx]) for idx, doc in zip(df_descripciones.index, df_descripciones['Descripcion_completa'])]\n",
    "\n",
    "\n"
   ]
  },
  {
   "cell_type": "code",
   "execution_count": 11,
   "metadata": {},
   "outputs": [],
   "source": [
    "# Entrenar el modelo Doc2Vec\n",
    "model = Doc2Vec(documents, vector_size=100, window=2, min_count=1, workers=4, seed = 42)"
   ]
  },
  {
   "cell_type": "code",
   "execution_count": 12,
   "metadata": {},
   "outputs": [],
   "source": [
    "# Función para recomendar juegos usando Doc2Vec y similaridad del coseno\n",
    "def recomendar_juegos_doc2vec(prompt, df_descripciones, model, top_n=5):\n",
    "    # Preprocesar el prompt y vectorizarlo usando Doc2Vec\n",
    "    prompt_vector = model.infer_vector(prompt.split())\n",
    "\n",
    "    # Obtener los vectores de todos los juegos\n",
    "    vectors = [model.dv[i] for i in range(len(df_descripciones))]\n",
    "\n",
    "    # Calcular la similaridad del coseno entre el prompt y los juegos\n",
    "    cosine_similarities = cosine_similarity([prompt_vector], vectors).flatten()\n",
    "\n",
    "    # Obtener los índices de los juegos con mayor similaridad\n",
    "    indices_recomendados = cosine_similarities.argsort()[-top_n:][::-1]\n",
    "\n",
    "    # Mostrar los juegos recomendados\n",
    "    print(\"Juegos recomendados:\")\n",
    "    for index in indices_recomendados:\n",
    "        print(f\"{df_descripciones.iloc[index]['Name']} (Similaridad: {cosine_similarities[index]:.4f})\")"
   ]
  },
  {
   "cell_type": "code",
   "execution_count": 13,
   "metadata": {},
   "outputs": [
    {
     "name": "stdout",
     "output_type": "stream",
     "text": [
      "Juegos recomendados:\n",
      "Trapped in Human Town (Similaridad: 0.7339)\n",
      "Justice Online Treacherous Waters (Similaridad: 0.7297)\n",
      "Questions Without Answers (Similaridad: 0.7140)\n",
      "Tales From Summerset Bay - In the Crosshairs (Similaridad: 0.7070)\n",
      "Echelon (Similaridad: 0.7005)\n"
     ]
    }
   ],
   "source": [
    "# Prompt del usuario\n",
    "prompt_usuario = 'I am looking for a game that is great for solo play and lasts about 30 minutes. I love games with a rich storytelling experience and immersive themes.'\n",
    "# Ejecutar la recomendación usando Doc2Vec\n",
    "recomendar_juegos_doc2vec(prompt_usuario, df_descripciones, model, top_n=5)"
   ]
  },
  {
   "cell_type": "code",
   "execution_count": 14,
   "metadata": {},
   "outputs": [],
   "source": [
    "def recomendar_juegos_doc2vec_con_valoraciones(prompt, df_descripciones, model, top_n=5, umbral_similaridad=0.1):\n",
    "    # Preprocesar el prompt y vectorizarlo usando Doc2Vec\n",
    "    prompt_vector = model.infer_vector(prompt.split())\n",
    "\n",
    "    # Obtener los vectores de todos los juegos usando los índices correctos del DataFrame\n",
    "    vectors = [model.dv[idx] for idx in df_descripciones.index]\n",
    "\n",
    "    # Calcular la similaridad del coseno entre el prompt y los juegos\n",
    "    cosine_similarities = cosine_similarity([prompt_vector], vectors).flatten()\n",
    "\n",
    "    # Asegurarse de que las valoraciones coincidan con los juegos vectorizados\n",
    "    valoraciones = df_descripciones.loc[df_descripciones.index.isin(df_descripciones.index), 'Average_Rating'].fillna(0).values\n",
    "\n",
    "    # Asegurar que los tamaños de cosine_similarities y valoraciones coincidan\n",
    "    if len(cosine_similarities) != len(valoraciones):\n",
    "        min_len = min(len(cosine_similarities), len(valoraciones))\n",
    "        cosine_similarities = cosine_similarities[:min_len]\n",
    "        valoraciones = valoraciones[:min_len]\n",
    "\n",
    "    # Crear una métrica combinada (similaridad * valoraciones)\n",
    "    similaridad_ponderada = cosine_similarities * valoraciones\n",
    "\n",
    "    # Filtrar recomendaciones con similaridad negativa o muy baja\n",
    "    indices_validos = [i for i, sim in enumerate(cosine_similarities) if sim > umbral_similaridad]\n",
    "\n",
    "    # Ordenar los juegos con mayor similaridad ponderada\n",
    "    indices_recomendados = sorted(indices_validos, key=lambda i: similaridad_ponderada[i], reverse=True)[:top_n]\n",
    "\n",
    "    # Mostrar los juegos recomendados\n",
    "    print(\"Juegos recomendados (con valoraciones y similaridad del coseno):\")\n",
    "    for index in indices_recomendados:\n",
    "        print(f\"{df_descripciones.iloc[index]['Name']} (Similaridad ponderada: {similaridad_ponderada[index]:.4f}, \"\n",
    "              f\"Similaridad del coseno: {cosine_similarities[index]:.4f}, \"\n",
    "              f\"Valoración: {valoraciones[index]:.2f})\")\n",
    "\n"
   ]
  },
  {
   "cell_type": "code",
   "execution_count": 15,
   "metadata": {},
   "outputs": [],
   "source": [
    "prompt_usuario = 'I am looking for a game that is great for solo play and lasts about 30 minutes. I love games with a rich storytelling experience and immersive themes.'"
   ]
  },
  {
   "cell_type": "code",
   "execution_count": 16,
   "metadata": {},
   "outputs": [
    {
     "name": "stdout",
     "output_type": "stream",
     "text": [
      "Juegos recomendados (con valoraciones y similaridad del coseno):\n",
      "Punctuation Pirates and Their Grammar Galleons (Similaridad ponderada: 7.3616, Similaridad del coseno: 0.7362, Valoración: 10.00)\n",
      "Forever Young (Similaridad ponderada: 6.6548, Similaridad del coseno: 0.6655, Valoración: 10.00)\n",
      "missed messages (Similaridad ponderada: 6.1914, Similaridad del coseno: 0.7430, Valoración: 8.33)\n",
      "Retro Rampage Trivia Quest (Similaridad ponderada: 6.1039, Similaridad del coseno: 0.6104, Valoración: 10.00)\n",
      "Kinect Sesame Street TV (Similaridad ponderada: 5.9661, Similaridad del coseno: 0.7458, Valoración: 8.00)\n"
     ]
    }
   ],
   "source": [
    "# Ejecutar la recomendación usando Doc2Vec con valoraciones ponderadas y umbral\n",
    "recomendar_juegos_doc2vec_con_valoraciones(prompt_usuario, df_descripciones, model, top_n=5, umbral_similaridad=0.1)"
   ]
  },
  {
   "cell_type": "code",
   "execution_count": 19,
   "metadata": {},
   "outputs": [],
   "source": [
    "def recomendar_juegos_doc2vec_con_valoraciones(prompt, df_descripciones, model, top_n=5, umbral_similaridad=0.1, w=0.7):\n",
    "    # Preprocesar el prompt y vectorizarlo usando Doc2Vec\n",
    "    prompt_vector = model.infer_vector(prompt.split())\n",
    "\n",
    "    # Obtener los vectores de todos los juegos usando los índices correctos del DataFrame\n",
    "    vectors = [model.dv[idx] for idx in df_descripciones.index]\n",
    "\n",
    "    # Calcular la similaridad del coseno entre el prompt y los juegos\n",
    "    cosine_similarities = cosine_similarity([prompt_vector], vectors).flatten()\n",
    "\n",
    "    # Asegurarse de que las valoraciones coincidan con los juegos vectorizados\n",
    "    valoraciones = df_descripciones.loc[df_descripciones.index.isin(df_descripciones.index), 'Average_Rating'].fillna(0).values\n",
    "\n",
    "    # Normalizar las valoraciones a una escala de 0 a 1\n",
    "    valoraciones_normalizadas = valoraciones / 10  # Suponiendo que la escala máxima es 10\n",
    "\n",
    "    # Asegurar que los tamaños de cosine_similarities y valoraciones coincidan\n",
    "    if len(cosine_similarities) != len(valoraciones):\n",
    "        min_len = min(len(cosine_similarities), len(valoraciones))\n",
    "        cosine_similarities = cosine_similarities[:min_len]\n",
    "        valoraciones_normalizadas = valoraciones_normalizadas[:min_len]\n",
    "\n",
    "    # Crear una métrica ponderada que priorice más la similaridad del coseno\n",
    "    similaridad_ponderada = (cosine_similarities * w) + (valoraciones_normalizadas * (1 - w))\n",
    "\n",
    "    # Filtrar recomendaciones con similaridad negativa o muy baja\n",
    "    indices_validos = [i for i, sim in enumerate(cosine_similarities) if sim > umbral_similaridad]\n",
    "\n",
    "    # Ordenar los juegos con mayor similaridad ponderada\n",
    "    indices_recomendados = sorted(indices_validos, key=lambda i: similaridad_ponderada[i], reverse=True)[:top_n]\n",
    "\n",
    "    # Mostrar los juegos recomendados\n",
    "    print(f\"Juegos recomendados (priorizando similaridad del coseno):\")\n",
    "    for index in indices_recomendados:\n",
    "        print(f\"{df_descripciones.iloc[index]['Name']} (Similaridad ponderada: {similaridad_ponderada[index]:.4f}, \"\n",
    "              f\"Similaridad del coseno: {cosine_similarities[index]:.4f}, \"\n",
    "              f\"Valoración: {valoraciones[index]:.2f})\")\n"
   ]
  },
  {
   "cell_type": "code",
   "execution_count": 20,
   "metadata": {},
   "outputs": [
    {
     "name": "stdout",
     "output_type": "stream",
     "text": [
      "Juegos recomendados (priorizando similaridad del coseno):\n",
      "Punctuation Pirates and Their Grammar Galleons (Similaridad ponderada: 0.7979, Similaridad del coseno: 0.7113, Valoración: 10.00)\n",
      "missed messages (Similaridad ponderada: 0.7683, Similaridad del coseno: 0.7405, Valoración: 8.33)\n",
      "Forever Young (Similaridad ponderada: 0.7384, Similaridad del coseno: 0.6263, Valoración: 10.00)\n",
      "Holiday Heroes (Similaridad ponderada: 0.7383, Similaridad del coseno: 0.7119, Valoración: 8.00)\n",
      "Kinect Sesame Street TV (Similaridad ponderada: 0.7149, Similaridad del coseno: 0.6785, Valoración: 8.00)\n"
     ]
    }
   ],
   "source": [
    "# Ejecutar la recomendación priorizando la similaridad del coseno (peso w = 0.7)\n",
    "recomendar_juegos_doc2vec_con_valoraciones(prompt_usuario, df_descripciones, model, top_n=5, umbral_similaridad=0.1, w=0.7)"
   ]
  }
 ],
 "metadata": {
  "kernelspec": {
   "display_name": "base",
   "language": "python",
   "name": "python3"
  },
  "language_info": {
   "codemirror_mode": {
    "name": "ipython",
    "version": 3
   },
   "file_extension": ".py",
   "mimetype": "text/x-python",
   "name": "python",
   "nbconvert_exporter": "python",
   "pygments_lexer": "ipython3",
   "version": "3.9.19"
  }
 },
 "nbformat": 4,
 "nbformat_minor": 2
}
