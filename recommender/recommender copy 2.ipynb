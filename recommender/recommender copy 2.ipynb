{
 "cells": [
  {
   "cell_type": "code",
   "execution_count": 1,
   "metadata": {},
   "outputs": [],
   "source": [
    "import pandas as pd\n",
    "from sklearn.feature_extraction.text import TfidfVectorizer\n",
    "from sklearn.metrics.pairwise import cosine_similarity\n",
    "import nltk\n",
    "from nltk.corpus import stopwords\n",
    "from nltk.stem import WordNetLemmatizer\n",
    "import re\n",
    "import warnings\n",
    "import ast\n",
    "warnings.filterwarnings('ignore')"
   ]
  },
  {
   "cell_type": "code",
   "execution_count": 2,
   "metadata": {},
   "outputs": [],
   "source": [
    "# Cargar los datos de juegos (descripciones)\n",
    "df_juegos = pd.read_csv('../data_extraction/boardgames_10000_juegos.csv')"
   ]
  },
  {
   "cell_type": "code",
   "execution_count": 3,
   "metadata": {},
   "outputs": [
    {
     "data": {
      "text/plain": [
       "Index(['BGGId', 'Name', 'Year_Published', 'Description', 'Min_Players',\n",
       "       'Max_Players', 'Min_Playtime', 'Max_Playtime', 'Average_Rating',\n",
       "       'Bayesian_Average_Rating', 'Number_of_Ratings', 'Mechanics',\n",
       "       'Categories'],\n",
       "      dtype='object')"
      ]
     },
     "execution_count": 3,
     "metadata": {},
     "output_type": "execute_result"
    }
   ],
   "source": [
    "df_juegos.columns"
   ]
  },
  {
   "cell_type": "code",
   "execution_count": 4,
   "metadata": {},
   "outputs": [],
   "source": [
    "# Obtener la descripción de los juegos\n",
    "df_descripciones = df_juegos[['BGGId','Name','Description', 'Mechanics', 'Categories', 'Average_Rating', 'Bayesian_Average_Rating']]  "
   ]
  },
  {
   "cell_type": "code",
   "execution_count": 5,
   "metadata": {},
   "outputs": [
    {
     "name": "stdout",
     "output_type": "stream",
     "text": [
      "<class 'pandas.core.frame.DataFrame'>\n",
      "RangeIndex: 10000 entries, 0 to 9999\n",
      "Data columns (total 7 columns):\n",
      " #   Column                   Non-Null Count  Dtype  \n",
      "---  ------                   --------------  -----  \n",
      " 0   BGGId                    10000 non-null  int64  \n",
      " 1   Name                     10000 non-null  object \n",
      " 2   Description              9992 non-null   object \n",
      " 3   Mechanics                10000 non-null  object \n",
      " 4   Categories               10000 non-null  object \n",
      " 5   Average_Rating           10000 non-null  float64\n",
      " 6   Bayesian_Average_Rating  10000 non-null  float64\n",
      "dtypes: float64(2), int64(1), object(4)\n",
      "memory usage: 547.0+ KB\n"
     ]
    }
   ],
   "source": [
    "df_descripciones.info()"
   ]
  },
  {
   "cell_type": "code",
   "execution_count": 6,
   "metadata": {},
   "outputs": [
    {
     "name": "stdout",
     "output_type": "stream",
     "text": [
      "<class 'pandas.core.frame.DataFrame'>\n",
      "Int64Index: 9992 entries, 0 to 9999\n",
      "Data columns (total 7 columns):\n",
      " #   Column                   Non-Null Count  Dtype  \n",
      "---  ------                   --------------  -----  \n",
      " 0   BGGId                    9992 non-null   int64  \n",
      " 1   Name                     9992 non-null   object \n",
      " 2   Description              9992 non-null   object \n",
      " 3   Mechanics                9992 non-null   object \n",
      " 4   Categories               9992 non-null   object \n",
      " 5   Average_Rating           9992 non-null   float64\n",
      " 6   Bayesian_Average_Rating  9992 non-null   float64\n",
      "dtypes: float64(2), int64(1), object(4)\n",
      "memory usage: 624.5+ KB\n"
     ]
    }
   ],
   "source": [
    "df_descripciones.dropna(inplace=True)\n",
    "df_descripciones.info()"
   ]
  },
  {
   "cell_type": "code",
   "execution_count": 7,
   "metadata": {},
   "outputs": [
    {
     "data": {
      "text/html": [
       "<div>\n",
       "<style scoped>\n",
       "    .dataframe tbody tr th:only-of-type {\n",
       "        vertical-align: middle;\n",
       "    }\n",
       "\n",
       "    .dataframe tbody tr th {\n",
       "        vertical-align: top;\n",
       "    }\n",
       "\n",
       "    .dataframe thead th {\n",
       "        text-align: right;\n",
       "    }\n",
       "</style>\n",
       "<table border=\"1\" class=\"dataframe\">\n",
       "  <thead>\n",
       "    <tr style=\"text-align: right;\">\n",
       "      <th></th>\n",
       "      <th>BGGId</th>\n",
       "      <th>Name</th>\n",
       "      <th>Description</th>\n",
       "      <th>Mechanics</th>\n",
       "      <th>Categories</th>\n",
       "      <th>Average_Rating</th>\n",
       "      <th>Bayesian_Average_Rating</th>\n",
       "    </tr>\n",
       "  </thead>\n",
       "  <tbody>\n",
       "    <tr>\n",
       "      <th>6482</th>\n",
       "      <td>285800</td>\n",
       "      <td>The Horseshoe Calamity (PF2)</td>\n",
       "      <td>From publisher blurb:&amp;#10;&amp;#10;Cold as Winter'...</td>\n",
       "      <td>[]</td>\n",
       "      <td>[]</td>\n",
       "      <td>0.00000</td>\n",
       "      <td>0.0</td>\n",
       "    </tr>\n",
       "    <tr>\n",
       "      <th>5643</th>\n",
       "      <td>193789</td>\n",
       "      <td>Wrath of Dragons: Copper Dragon</td>\n",
       "      <td>An additional dragon, with a unique level 2 up...</td>\n",
       "      <td>['Hand Management', 'Simultaneous Action Selec...</td>\n",
       "      <td>['Expansion for Base-game', 'Fantasy']</td>\n",
       "      <td>4.56667</td>\n",
       "      <td>0.0</td>\n",
       "    </tr>\n",
       "    <tr>\n",
       "      <th>6454</th>\n",
       "      <td>299582</td>\n",
       "      <td>Through the Mud and Blood</td>\n",
       "      <td>Though the Mud and Blood is a quick play divis...</td>\n",
       "      <td>['Simulation']</td>\n",
       "      <td>['Book', 'Miniatures', 'Wargame', 'World War I']</td>\n",
       "      <td>7.33333</td>\n",
       "      <td>0.0</td>\n",
       "    </tr>\n",
       "    <tr>\n",
       "      <th>4489</th>\n",
       "      <td>94680</td>\n",
       "      <td>The Chips Are Down</td>\n",
       "      <td>From the Game's Introduction:&amp;#10;&amp;#10;In The ...</td>\n",
       "      <td>[]</td>\n",
       "      <td>[]</td>\n",
       "      <td>5.00000</td>\n",
       "      <td>0.0</td>\n",
       "    </tr>\n",
       "    <tr>\n",
       "      <th>4996</th>\n",
       "      <td>287926</td>\n",
       "      <td>The Adventurers' Guild Crier (Issue 16)</td>\n",
       "      <td>The Adventurers' Guild&amp;#10;Crier&amp;#10;Issue 16&amp;...</td>\n",
       "      <td>[]</td>\n",
       "      <td>[]</td>\n",
       "      <td>0.00000</td>\n",
       "      <td>0.0</td>\n",
       "    </tr>\n",
       "  </tbody>\n",
       "</table>\n",
       "</div>"
      ],
      "text/plain": [
       "       BGGId                                     Name  \\\n",
       "6482  285800             The Horseshoe Calamity (PF2)   \n",
       "5643  193789          Wrath of Dragons: Copper Dragon   \n",
       "6454  299582                Through the Mud and Blood   \n",
       "4489   94680                       The Chips Are Down   \n",
       "4996  287926  The Adventurers' Guild Crier (Issue 16)   \n",
       "\n",
       "                                            Description  \\\n",
       "6482  From publisher blurb:&#10;&#10;Cold as Winter'...   \n",
       "5643  An additional dragon, with a unique level 2 up...   \n",
       "6454  Though the Mud and Blood is a quick play divis...   \n",
       "4489  From the Game's Introduction:&#10;&#10;In The ...   \n",
       "4996  The Adventurers' Guild&#10;Crier&#10;Issue 16&...   \n",
       "\n",
       "                                              Mechanics  \\\n",
       "6482                                                 []   \n",
       "5643  ['Hand Management', 'Simultaneous Action Selec...   \n",
       "6454                                     ['Simulation']   \n",
       "4489                                                 []   \n",
       "4996                                                 []   \n",
       "\n",
       "                                            Categories  Average_Rating  \\\n",
       "6482                                                []         0.00000   \n",
       "5643            ['Expansion for Base-game', 'Fantasy']         4.56667   \n",
       "6454  ['Book', 'Miniatures', 'Wargame', 'World War I']         7.33333   \n",
       "4489                                                []         5.00000   \n",
       "4996                                                []         0.00000   \n",
       "\n",
       "      Bayesian_Average_Rating  \n",
       "6482                      0.0  \n",
       "5643                      0.0  \n",
       "6454                      0.0  \n",
       "4489                      0.0  \n",
       "4996                      0.0  "
      ]
     },
     "execution_count": 7,
     "metadata": {},
     "output_type": "execute_result"
    }
   ],
   "source": [
    "df_descripciones.sample(5)"
   ]
  },
  {
   "cell_type": "code",
   "execution_count": 8,
   "metadata": {},
   "outputs": [
    {
     "name": "stderr",
     "output_type": "stream",
     "text": [
      "[nltk_data] Downloading package stopwords to C:\\Users\\Laura\n",
      "[nltk_data]     Ortiz\\AppData\\Roaming\\nltk_data...\n",
      "[nltk_data]   Package stopwords is already up-to-date!\n",
      "[nltk_data] Downloading package wordnet to C:\\Users\\Laura\n",
      "[nltk_data]     Ortiz\\AppData\\Roaming\\nltk_data...\n",
      "[nltk_data]   Package wordnet is already up-to-date!\n"
     ]
    }
   ],
   "source": [
    "# Asegúrate de descargar stopwords y wordnet de nltk\n",
    "nltk.download('stopwords')\n",
    "nltk.download('wordnet')\n",
    "\n",
    "# Función mejorada de preprocesamiento de texto\n",
    "def preprocesar_descripcion(texto):\n",
    "    lemmatizer = WordNetLemmatizer()\n",
    "    stop_words = set(stopwords.words('english'))\n",
    "    \n",
    "    # Eliminar entidades HTML y otros caracteres no deseados\n",
    "    texto = re.sub(r'&#?\\w+;', ' ', texto)  # Reemplazar entidades HTML como &#10; \n",
    "    texto = re.sub(r'\\W+', ' ', texto)  # Eliminar caracteres no alfanuméricos\n",
    "    texto = re.sub(r'\\d+', '', texto)  # Eliminar números\n",
    "    \n",
    "    # Convertir a minúsculas, eliminar stopwords y lematizar (solo si el texto es válido)\n",
    "    if isinstance(texto, str):\n",
    "        palabras = [lemmatizer.lemmatize(palabra) for palabra in texto.lower().split() if palabra not in stop_words]\n",
    "        return \" \".join(palabras)\n",
    "    else:\n",
    "        return \"\"  # Devolver cadena vacía si no es un texto válido\n",
    "\n"
   ]
  },
  {
   "cell_type": "code",
   "execution_count": 9,
   "metadata": {},
   "outputs": [],
   "source": [
    "# Aplicar el preprocesamiento mejorado a las descripciones\n",
    "df_descripciones['Descripcion_completa'] = df_descripciones['Description'].apply(preprocesar_descripcion)"
   ]
  },
  {
   "cell_type": "code",
   "execution_count": 10,
   "metadata": {},
   "outputs": [],
   "source": [
    "from gensim.models.doc2vec import Doc2Vec, TaggedDocument\n",
    "\n",
    "# Entrenar Doc2Vec usando los índices del DataFrame como etiquetas\n",
    "documents = [TaggedDocument(doc.split(), [idx]) for idx, doc in zip(df_descripciones.index, df_descripciones['Descripcion_completa'])]\n",
    "\n",
    "\n"
   ]
  },
  {
   "cell_type": "code",
   "execution_count": 11,
   "metadata": {},
   "outputs": [],
   "source": [
    "# Entrenar el modelo Doc2Vec\n",
    "model = Doc2Vec(documents, vector_size=50, window=2, min_count=1, workers=4, seed = 42)"
   ]
  },
  {
   "cell_type": "code",
   "execution_count": 12,
   "metadata": {},
   "outputs": [],
   "source": [
    "# Función para recomendar juegos usando Doc2Vec y similaridad del coseno\n",
    "def recomendar_juegos_doc2vec(prompt, df_descripciones, model, top_n=5):\n",
    "    # Preprocesar el prompt y vectorizarlo usando Doc2Vec\n",
    "    prompt_vector = model.infer_vector(prompt.split())\n",
    "\n",
    "    # Obtener los vectores de todos los juegos\n",
    "    vectors = [model.dv[i] for i in range(len(df_descripciones))]\n",
    "\n",
    "    # Calcular la similaridad del coseno entre el prompt y los juegos\n",
    "    cosine_similarities = cosine_similarity([prompt_vector], vectors).flatten()\n",
    "\n",
    "    # Obtener los índices de los juegos con mayor similaridad\n",
    "    indices_recomendados = cosine_similarities.argsort()[-top_n:][::-1]\n",
    "\n",
    "    # Mostrar los juegos recomendados\n",
    "    print(\"Juegos recomendados:\")\n",
    "    for index in indices_recomendados:\n",
    "        print(f\"{df_descripciones.iloc[index]['Name']} (Similaridad: {cosine_similarities[index]:.4f})\")"
   ]
  },
  {
   "cell_type": "code",
   "execution_count": 13,
   "metadata": {},
   "outputs": [
    {
     "name": "stdout",
     "output_type": "stream",
     "text": [
      "Juegos recomendados:\n",
      "Avalon Haunts 04 (Similaridad: 0.7795)\n",
      "Questions Without Answers (Similaridad: 0.7224)\n",
      "Whose Home? (Similaridad: 0.7199)\n",
      "Plemię Ognistych Wilków (Similaridad: 0.7195)\n",
      "Era: The Empowered (Similaridad: 0.7191)\n"
     ]
    }
   ],
   "source": [
    "# Prompt del usuario\n",
    "prompt_usuario = 'I am looking for a game that is great for solo play and lasts about 30 minutes. I love games with a rich storytelling experience and immersive themes.'\n",
    "# Ejecutar la recomendación usando Doc2Vec\n",
    "recomendar_juegos_doc2vec(prompt_usuario, df_descripciones, model, top_n=5)"
   ]
  },
  {
   "cell_type": "code",
   "execution_count": 19,
   "metadata": {},
   "outputs": [],
   "source": [
    "def recomendar_juegos_doc2vec_con_valoraciones(prompt, df_descripciones, model, top_n=5, umbral_similaridad=0.1):\n",
    "    # Preprocesar el prompt y vectorizarlo usando Doc2Vec\n",
    "    prompt_vector = model.infer_vector(prompt.split())\n",
    "\n",
    "    # Obtener los vectores de todos los juegos usando los índices correctos del DataFrame\n",
    "    vectors = [model.dv[idx] for idx in df_descripciones.index]\n",
    "\n",
    "    # Calcular la similaridad del coseno entre el prompt y los juegos\n",
    "    cosine_similarities = cosine_similarity([prompt_vector], vectors).flatten()\n",
    "\n",
    "    # Asegurarse de que las valoraciones coincidan con los juegos vectorizados\n",
    "    valoraciones = df_descripciones.loc[df_descripciones.index.isin(df_descripciones.index), 'Average_Rating'].fillna(0).values\n",
    "\n",
    "    # Asegurar que los tamaños de cosine_similarities y valoraciones coincidan\n",
    "    if len(cosine_similarities) != len(valoraciones):\n",
    "        min_len = min(len(cosine_similarities), len(valoraciones))\n",
    "        cosine_similarities = cosine_similarities[:min_len]\n",
    "        valoraciones = valoraciones[:min_len]\n",
    "\n",
    "    # Crear una métrica combinada (similaridad * valoraciones)\n",
    "    similaridad_ponderada = cosine_similarities * valoraciones\n",
    "\n",
    "    # Filtrar recomendaciones con similaridad negativa o muy baja\n",
    "    indices_validos = [i for i, sim in enumerate(cosine_similarities) if sim > umbral_similaridad]\n",
    "\n",
    "    # Ordenar los juegos con mayor similaridad ponderada\n",
    "    indices_recomendados = sorted(indices_validos, key=lambda i: similaridad_ponderada[i], reverse=True)[:top_n]\n",
    "\n",
    "    # Mostrar los juegos recomendados\n",
    "    print(\"Juegos recomendados (con valoraciones y similaridad del coseno):\")\n",
    "    for index in indices_recomendados:\n",
    "        print(f\"{df_descripciones.iloc[index]['Name']} (Similaridad ponderada: {similaridad_ponderada[index]:.4f}, \"\n",
    "              f\"Similaridad del coseno: {cosine_similarities[index]:.4f}, \"\n",
    "              f\"Valoración: {valoraciones[index]:.2f})\")\n",
    "\n"
   ]
  },
  {
   "cell_type": "code",
   "execution_count": 20,
   "metadata": {},
   "outputs": [],
   "source": [
    "prompt_usuario = 'I am looking for a game that is great for solo play and lasts about 30 minutes. I love games with a rich storytelling experience and immersive themes.'"
   ]
  },
  {
   "cell_type": "code",
   "execution_count": 21,
   "metadata": {},
   "outputs": [
    {
     "name": "stdout",
     "output_type": "stream",
     "text": [
      "Juegos recomendados (con valoraciones y similaridad del coseno):\n",
      "Tradewala (Similaridad ponderada: 6.1189, Similaridad del coseno: 0.6953, Valoración: 8.80)\n",
      "Forever Young (Similaridad ponderada: 6.0549, Similaridad del coseno: 0.6055, Valoración: 10.00)\n",
      "Whirred PLAY (Similaridad ponderada: 6.0139, Similaridad del coseno: 0.6014, Valoración: 10.00)\n",
      "Punctuation Pirates and Their Grammar Galleons (Similaridad ponderada: 5.9335, Similaridad del coseno: 0.5934, Valoración: 10.00)\n",
      "Friday Night Legends (Similaridad ponderada: 5.8565, Similaridad del coseno: 0.6259, Valoración: 9.36)\n"
     ]
    }
   ],
   "source": [
    "# Ejecutar la recomendación usando Doc2Vec con valoraciones ponderadas y umbral\n",
    "recomendar_juegos_doc2vec_con_valoraciones(prompt_usuario, df_descripciones, model, top_n=5, umbral_similaridad=0.1)"
   ]
  },
  {
   "cell_type": "code",
   "execution_count": 23,
   "metadata": {},
   "outputs": [],
   "source": [
    "def recomendar_juegos_doc2vec_con_valoraciones(prompt, df_descripciones, model, top_n=5, umbral_similaridad=0.1, w=0.7):\n",
    "    # Preprocesar el prompt y vectorizarlo usando Doc2Vec\n",
    "    prompt_vector = model.infer_vector(prompt.split())\n",
    "\n",
    "    # Obtener los vectores de todos los juegos usando los índices correctos del DataFrame\n",
    "    vectors = [model.dv[idx] for idx in df_descripciones.index]\n",
    "\n",
    "    # Calcular la similaridad del coseno entre el prompt y los juegos\n",
    "    cosine_similarities = cosine_similarity([prompt_vector], vectors).flatten()\n",
    "\n",
    "    # Asegurarse de que las valoraciones coincidan con los juegos vectorizados\n",
    "    valoraciones = df_descripciones.loc[df_descripciones.index.isin(df_descripciones.index), 'Average_Rating'].fillna(0).values\n",
    "\n",
    "    # Normalizar las valoraciones a una escala de 0 a 1\n",
    "    valoraciones_normalizadas = valoraciones / 10  # Suponiendo que la escala máxima es 10\n",
    "\n",
    "    # Asegurar que los tamaños de cosine_similarities y valoraciones coincidan\n",
    "    if len(cosine_similarities) != len(valoraciones):\n",
    "        min_len = min(len(cosine_similarities), len(valoraciones))\n",
    "        cosine_similarities = cosine_similarities[:min_len]\n",
    "        valoraciones_normalizadas = valoraciones_normalizadas[:min_len]\n",
    "\n",
    "    # Crear una métrica ponderada que priorice más la similaridad del coseno\n",
    "    similaridad_ponderada = (cosine_similarities * w) + (valoraciones_normalizadas * (1 - w))\n",
    "\n",
    "    # Filtrar recomendaciones con similaridad negativa o muy baja\n",
    "    indices_validos = [i for i, sim in enumerate(cosine_similarities) if sim > umbral_similaridad]\n",
    "\n",
    "    # Ordenar los juegos con mayor similaridad ponderada\n",
    "    indices_recomendados = sorted(indices_validos, key=lambda i: similaridad_ponderada[i], reverse=True)[:top_n]\n",
    "\n",
    "    # Mostrar los juegos recomendados\n",
    "    print(f\"Juegos recomendados (priorizando similaridad del coseno):\")\n",
    "    for index in indices_recomendados:\n",
    "        print(f\"{df_descripciones.iloc[index]['Name']} (Similaridad ponderada: {similaridad_ponderada[index]:.4f}, \"\n",
    "              f\"Similaridad del coseno: {cosine_similarities[index]:.4f}, \"\n",
    "              f\"Valoración: {valoraciones[index]:.2f})\")\n"
   ]
  },
  {
   "cell_type": "code",
   "execution_count": 24,
   "metadata": {},
   "outputs": [
    {
     "name": "stdout",
     "output_type": "stream",
     "text": [
      "Juegos recomendados (priorizando similaridad del coseno):\n",
      "Victory in the Galaxy (Similaridad ponderada: 0.7105, Similaridad del coseno: 0.7065, Valoración: 7.20)\n",
      "The Way to Play (Similaridad ponderada: 0.7105, Similaridad del coseno: 0.6882, Valoración: 7.62)\n",
      "WEGS 101: Old Skool (Similaridad ponderada: 0.6900, Similaridad del coseno: 0.6429, Valoración: 8.00)\n",
      "Punctuation Pirates and Their Grammar Galleons (Similaridad ponderada: 0.6667, Similaridad del coseno: 0.5239, Valoración: 10.00)\n",
      "To End All Wars & Chaos in Crete (Savage Worlds) (Similaridad ponderada: 0.6616, Similaridad del coseno: 0.6166, Valoración: 7.67)\n"
     ]
    }
   ],
   "source": [
    "# Ejecutar la recomendación priorizando la similaridad del coseno (peso w = 0.7)\n",
    "recomendar_juegos_doc2vec_con_valoraciones(prompt_usuario, df_descripciones, model, top_n=5, umbral_similaridad=0.1, w=0.7)"
   ]
  }
 ],
 "metadata": {
  "kernelspec": {
   "display_name": "base",
   "language": "python",
   "name": "python3"
  },
  "language_info": {
   "codemirror_mode": {
    "name": "ipython",
    "version": 3
   },
   "file_extension": ".py",
   "mimetype": "text/x-python",
   "name": "python",
   "nbconvert_exporter": "python",
   "pygments_lexer": "ipython3",
   "version": "3.9.19"
  }
 },
 "nbformat": 4,
 "nbformat_minor": 2
}
