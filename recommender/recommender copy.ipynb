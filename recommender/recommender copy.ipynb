{
 "cells": [
  {
   "cell_type": "code",
   "execution_count": 1,
   "metadata": {},
   "outputs": [],
   "source": [
    "import pandas as pd\n",
    "from sklearn.feature_extraction.text import TfidfVectorizer\n",
    "from sklearn.metrics.pairwise import cosine_similarity\n",
    "import nltk\n",
    "from nltk.corpus import stopwords\n",
    "from nltk.stem import WordNetLemmatizer\n",
    "import re\n",
    "from gensim.models.doc2vec import Doc2Vec, TaggedDocument\n",
    "import pinecone\n",
    "from pinecone import Pinecone\n",
    "from pinecone import Pinecone, ServerlessSpec"
   ]
  },
  {
   "cell_type": "code",
   "execution_count": 2,
   "metadata": {},
   "outputs": [],
   "source": [
    "# Cargar los datos de juegos (descripciones)\n",
    "df_juegos = pd.read_csv('../data_extraction/boardgames_10000_juegos.csv')"
   ]
  },
  {
   "cell_type": "code",
   "execution_count": 3,
   "metadata": {},
   "outputs": [
    {
     "data": {
      "text/plain": [
       "Index(['BGGId', 'Name', 'Year_Published', 'Description', 'Min_Players',\n",
       "       'Max_Players', 'Min_Playtime', 'Max_Playtime', 'Average_Rating',\n",
       "       'Bayesian_Average_Rating', 'Number_of_Ratings', 'Mechanics',\n",
       "       'Categories'],\n",
       "      dtype='object')"
      ]
     },
     "execution_count": 3,
     "metadata": {},
     "output_type": "execute_result"
    }
   ],
   "source": [
    "df_juegos.columns"
   ]
  },
  {
   "cell_type": "code",
   "execution_count": 4,
   "metadata": {},
   "outputs": [],
   "source": [
    "# Obtener la descripción de los juegos\n",
    "df_descripciones = df_juegos[['BGGId','Name','Description', 'Mechanics', 'Categories', 'Average_Rating', 'Bayesian_Average_Rating']]  "
   ]
  },
  {
   "cell_type": "code",
   "execution_count": 5,
   "metadata": {},
   "outputs": [
    {
     "name": "stdout",
     "output_type": "stream",
     "text": [
      "<class 'pandas.core.frame.DataFrame'>\n",
      "RangeIndex: 10000 entries, 0 to 9999\n",
      "Data columns (total 7 columns):\n",
      " #   Column                   Non-Null Count  Dtype  \n",
      "---  ------                   --------------  -----  \n",
      " 0   BGGId                    10000 non-null  int64  \n",
      " 1   Name                     10000 non-null  object \n",
      " 2   Description              9992 non-null   object \n",
      " 3   Mechanics                10000 non-null  object \n",
      " 4   Categories               10000 non-null  object \n",
      " 5   Average_Rating           10000 non-null  float64\n",
      " 6   Bayesian_Average_Rating  10000 non-null  float64\n",
      "dtypes: float64(2), int64(1), object(4)\n",
      "memory usage: 547.0+ KB\n"
     ]
    }
   ],
   "source": [
    "df_descripciones.info()"
   ]
  },
  {
   "cell_type": "code",
   "execution_count": 6,
   "metadata": {},
   "outputs": [
    {
     "name": "stdout",
     "output_type": "stream",
     "text": [
      "<class 'pandas.core.frame.DataFrame'>\n",
      "Int64Index: 9992 entries, 0 to 9999\n",
      "Data columns (total 7 columns):\n",
      " #   Column                   Non-Null Count  Dtype  \n",
      "---  ------                   --------------  -----  \n",
      " 0   BGGId                    9992 non-null   int64  \n",
      " 1   Name                     9992 non-null   object \n",
      " 2   Description              9992 non-null   object \n",
      " 3   Mechanics                9992 non-null   object \n",
      " 4   Categories               9992 non-null   object \n",
      " 5   Average_Rating           9992 non-null   float64\n",
      " 6   Bayesian_Average_Rating  9992 non-null   float64\n",
      "dtypes: float64(2), int64(1), object(4)\n",
      "memory usage: 624.5+ KB\n"
     ]
    },
    {
     "name": "stderr",
     "output_type": "stream",
     "text": [
      "C:\\Users\\Laura Ortiz\\AppData\\Local\\Temp\\ipykernel_12820\\1111501472.py:1: SettingWithCopyWarning: \n",
      "A value is trying to be set on a copy of a slice from a DataFrame\n",
      "\n",
      "See the caveats in the documentation: https://pandas.pydata.org/pandas-docs/stable/user_guide/indexing.html#returning-a-view-versus-a-copy\n",
      "  df_descripciones.dropna(inplace=True)\n"
     ]
    }
   ],
   "source": [
    "df_descripciones.dropna(inplace=True)\n",
    "df_descripciones.info()"
   ]
  },
  {
   "cell_type": "code",
   "execution_count": 7,
   "metadata": {},
   "outputs": [
    {
     "data": {
      "text/html": [
       "<div>\n",
       "<style scoped>\n",
       "    .dataframe tbody tr th:only-of-type {\n",
       "        vertical-align: middle;\n",
       "    }\n",
       "\n",
       "    .dataframe tbody tr th {\n",
       "        vertical-align: top;\n",
       "    }\n",
       "\n",
       "    .dataframe thead th {\n",
       "        text-align: right;\n",
       "    }\n",
       "</style>\n",
       "<table border=\"1\" class=\"dataframe\">\n",
       "  <thead>\n",
       "    <tr style=\"text-align: right;\">\n",
       "      <th></th>\n",
       "      <th>BGGId</th>\n",
       "      <th>Name</th>\n",
       "      <th>Description</th>\n",
       "      <th>Mechanics</th>\n",
       "      <th>Categories</th>\n",
       "      <th>Average_Rating</th>\n",
       "      <th>Bayesian_Average_Rating</th>\n",
       "    </tr>\n",
       "  </thead>\n",
       "  <tbody>\n",
       "    <tr>\n",
       "      <th>9684</th>\n",
       "      <td>38482</td>\n",
       "      <td>Freaky Forest: The Halloween Game</td>\n",
       "      <td>From the Black &amp; White Games website:&amp;#10;&amp;#10...</td>\n",
       "      <td>['Dice Rolling']</td>\n",
       "      <td>['Dice']</td>\n",
       "      <td>5.87500</td>\n",
       "      <td>0.00000</td>\n",
       "    </tr>\n",
       "    <tr>\n",
       "      <th>5423</th>\n",
       "      <td>252055</td>\n",
       "      <td>Drawn from the Dark</td>\n",
       "      <td>From publisher blurb:&amp;#10;&amp;#10;Drawn from the ...</td>\n",
       "      <td>[]</td>\n",
       "      <td>[]</td>\n",
       "      <td>7.00000</td>\n",
       "      <td>0.00000</td>\n",
       "    </tr>\n",
       "    <tr>\n",
       "      <th>4193</th>\n",
       "      <td>217018</td>\n",
       "      <td>Frankie's Food Truck Fiasco Game</td>\n",
       "      <td>Description from the publisher:&amp;#10;&amp;#10;Order...</td>\n",
       "      <td>['Set Collection']</td>\n",
       "      <td>[\"Children's Game\", 'Educational']</td>\n",
       "      <td>5.90500</td>\n",
       "      <td>0.00000</td>\n",
       "    </tr>\n",
       "    <tr>\n",
       "      <th>1361</th>\n",
       "      <td>44629</td>\n",
       "      <td>Chaining the Beast</td>\n",
       "      <td>WW2432: Chaining the Beast&amp;#10;&amp;#10;A sourcebo...</td>\n",
       "      <td>[]</td>\n",
       "      <td>[]</td>\n",
       "      <td>5.85714</td>\n",
       "      <td>5.58141</td>\n",
       "    </tr>\n",
       "    <tr>\n",
       "      <th>1466</th>\n",
       "      <td>74217</td>\n",
       "      <td>Battletoads in Battlemaniacs</td>\n",
       "      <td>\"Battletoads in Battlemaniacs is a game releas...</td>\n",
       "      <td>[]</td>\n",
       "      <td>[]</td>\n",
       "      <td>6.07143</td>\n",
       "      <td>5.55899</td>\n",
       "    </tr>\n",
       "  </tbody>\n",
       "</table>\n",
       "</div>"
      ],
      "text/plain": [
       "       BGGId                               Name  \\\n",
       "9684   38482  Freaky Forest: The Halloween Game   \n",
       "5423  252055                Drawn from the Dark   \n",
       "4193  217018   Frankie's Food Truck Fiasco Game   \n",
       "1361   44629                 Chaining the Beast   \n",
       "1466   74217       Battletoads in Battlemaniacs   \n",
       "\n",
       "                                            Description           Mechanics  \\\n",
       "9684  From the Black & White Games website:&#10;&#10...    ['Dice Rolling']   \n",
       "5423  From publisher blurb:&#10;&#10;Drawn from the ...                  []   \n",
       "4193  Description from the publisher:&#10;&#10;Order...  ['Set Collection']   \n",
       "1361  WW2432: Chaining the Beast&#10;&#10;A sourcebo...                  []   \n",
       "1466  \"Battletoads in Battlemaniacs is a game releas...                  []   \n",
       "\n",
       "                              Categories  Average_Rating  \\\n",
       "9684                            ['Dice']         5.87500   \n",
       "5423                                  []         7.00000   \n",
       "4193  [\"Children's Game\", 'Educational']         5.90500   \n",
       "1361                                  []         5.85714   \n",
       "1466                                  []         6.07143   \n",
       "\n",
       "      Bayesian_Average_Rating  \n",
       "9684                  0.00000  \n",
       "5423                  0.00000  \n",
       "4193                  0.00000  \n",
       "1361                  5.58141  \n",
       "1466                  5.55899  "
      ]
     },
     "execution_count": 7,
     "metadata": {},
     "output_type": "execute_result"
    }
   ],
   "source": [
    "df_descripciones.sample(5)"
   ]
  },
  {
   "cell_type": "code",
   "execution_count": 8,
   "metadata": {},
   "outputs": [
    {
     "name": "stderr",
     "output_type": "stream",
     "text": [
      "[nltk_data] Downloading package stopwords to C:\\Users\\Laura\n",
      "[nltk_data]     Ortiz\\AppData\\Roaming\\nltk_data...\n",
      "[nltk_data]   Package stopwords is already up-to-date!\n",
      "[nltk_data] Downloading package wordnet to C:\\Users\\Laura\n",
      "[nltk_data]     Ortiz\\AppData\\Roaming\\nltk_data...\n",
      "[nltk_data]   Package wordnet is already up-to-date!\n"
     ]
    }
   ],
   "source": [
    "# Asegúrate de descargar stopwords y wordnet de nltk\n",
    "nltk.download('stopwords')\n",
    "nltk.download('wordnet')\n",
    "\n",
    "# Función mejorada de preprocesamiento de texto\n",
    "def preprocesar_descripcion(texto):\n",
    "    lemmatizer = WordNetLemmatizer()\n",
    "    stop_words = set(stopwords.words('english'))\n",
    "    \n",
    "    # Eliminar entidades HTML y otros caracteres no deseados\n",
    "    texto = re.sub(r'&#?\\w+;', ' ', texto)  # Reemplazar entidades HTML como &#10; \n",
    "    texto = re.sub(r'\\W+', ' ', texto)  # Eliminar caracteres no alfanuméricos\n",
    "    texto = re.sub(r'\\d+', '', texto)  # Eliminar números\n",
    "    \n",
    "    # Convertir a minúsculas, eliminar stopwords y lematizar (solo si el texto es válido)\n",
    "    if isinstance(texto, str):\n",
    "        palabras = [lemmatizer.lemmatize(palabra) for palabra in texto.lower().split() if palabra not in stop_words]\n",
    "        return \" \".join(palabras)\n",
    "    else:\n",
    "        return \"\"  # Devolver cadena vacía si no es un texto válido\n",
    "\n"
   ]
  },
  {
   "cell_type": "code",
   "execution_count": 9,
   "metadata": {},
   "outputs": [
    {
     "name": "stderr",
     "output_type": "stream",
     "text": [
      "C:\\Users\\Laura Ortiz\\AppData\\Local\\Temp\\ipykernel_12820\\1354438255.py:2: SettingWithCopyWarning: \n",
      "A value is trying to be set on a copy of a slice from a DataFrame.\n",
      "Try using .loc[row_indexer,col_indexer] = value instead\n",
      "\n",
      "See the caveats in the documentation: https://pandas.pydata.org/pandas-docs/stable/user_guide/indexing.html#returning-a-view-versus-a-copy\n",
      "  df_descripciones['Descripcion_limpia'] = df_descripciones['Description'].apply(preprocesar_descripcion)\n",
      "C:\\Users\\Laura Ortiz\\AppData\\Local\\Temp\\ipykernel_12820\\1354438255.py:5: SettingWithCopyWarning: \n",
      "A value is trying to be set on a copy of a slice from a DataFrame.\n",
      "Try using .loc[row_indexer,col_indexer] = value instead\n",
      "\n",
      "See the caveats in the documentation: https://pandas.pydata.org/pandas-docs/stable/user_guide/indexing.html#returning-a-view-versus-a-copy\n",
      "  df_descripciones['Mecanicas'] = df_descripciones['Mechanics'].apply(lambda x: ', '.join(x))\n",
      "C:\\Users\\Laura Ortiz\\AppData\\Local\\Temp\\ipykernel_12820\\1354438255.py:6: SettingWithCopyWarning: \n",
      "A value is trying to be set on a copy of a slice from a DataFrame.\n",
      "Try using .loc[row_indexer,col_indexer] = value instead\n",
      "\n",
      "See the caveats in the documentation: https://pandas.pydata.org/pandas-docs/stable/user_guide/indexing.html#returning-a-view-versus-a-copy\n",
      "  df_descripciones['Categorias'] = df_descripciones['Categories'].apply(lambda x: ', '.join(x))\n",
      "C:\\Users\\Laura Ortiz\\AppData\\Local\\Temp\\ipykernel_12820\\1354438255.py:9: SettingWithCopyWarning: \n",
      "A value is trying to be set on a copy of a slice from a DataFrame.\n",
      "Try using .loc[row_indexer,col_indexer] = value instead\n",
      "\n",
      "See the caveats in the documentation: https://pandas.pydata.org/pandas-docs/stable/user_guide/indexing.html#returning-a-view-versus-a-copy\n",
      "  df_descripciones['Descripcion_completa'] = df_descripciones['Descripcion_limpia'] + \" \" + df_descripciones['Mecanicas'] + \" \" + df_descripciones['Categorias']\n"
     ]
    }
   ],
   "source": [
    "# Aplicar el preprocesamiento mejorado a las descripciones\n",
    "df_descripciones['Descripcion_limpia'] = df_descripciones['Description'].apply(preprocesar_descripcion)\n",
    "\n",
    "# Convertir listas de mecánicas y categorías en cadenas de texto\n",
    "df_descripciones['Mecanicas'] = df_descripciones['Mechanics'].apply(lambda x: ', '.join(x))\n",
    "df_descripciones['Categorias'] = df_descripciones['Categories'].apply(lambda x: ', '.join(x))\n",
    "\n",
    "# Combinar la descripción limpia con las mecánicas y categorías\n",
    "df_descripciones['Descripcion_completa'] = df_descripciones['Descripcion_limpia'] + \" \" + df_descripciones['Mecanicas'] + \" \" + df_descripciones['Categorias']"
   ]
  },
  {
   "cell_type": "code",
   "execution_count": 10,
   "metadata": {},
   "outputs": [],
   "source": [
    "# Entrenar Doc2Vec usando los índices del DataFrame como etiquetas\n",
    "documents = [TaggedDocument(doc.split(), [str(idx)]) for idx, doc in zip(df_descripciones.index, df_descripciones['Descripcion_completa'])]\n",
    "model = Doc2Vec(documents, vector_size=50, window=2, min_count=1, workers=4)"
   ]
  },
  {
   "cell_type": "code",
   "execution_count": 11,
   "metadata": {},
   "outputs": [],
   "source": [
    "# Inicializar Pinecone\n",
    "pc = Pinecone(api_key=\"e2659d52-b976-4624-b8b8-8de36f8ea15a\")\n",
    "\n",
    "# Nombre del índice que vamos a crear\n",
    "index_name = \"boardgames-recommendation\"\n",
    "\n",
    "# Crear el índice con la nueva API\n",
    "pc.create_index(\n",
    "    name=index_name,\n",
    "    dimension=50,  # La dimensión de tus embeddings (en este caso, de Doc2Vec)\n",
    "    metric=\"cosine\",  # Similaridad del coseno para las búsquedas\n",
    "    spec=ServerlessSpec(\n",
    "        cloud=\"aws\",       # Proveedor de nube\n",
    "        region=\"us-east-1\"  # Región, asegúrate de poner la que corresponda a tu entorno\n",
    "    )\n",
    ")\n",
    "\n"
   ]
  },
  {
   "cell_type": "code",
   "execution_count": 12,
   "metadata": {},
   "outputs": [
    {
     "name": "stdout",
     "output_type": "stream",
     "text": [
      "Embeddings subidos a Pinecone correctamente.\n"
     ]
    }
   ],
   "source": [
    "# Conectar al índice existente\n",
    "index = pc.Index(index_name)\n",
    "\n",
    "# Subir los embeddings de los juegos a Pinecone\n",
    "for idx, row in df_descripciones.iterrows():\n",
    "    embedding_vector = model.dv[str(idx)]  # El embedding generado por Doc2Vec\n",
    "    game_id = row['BGGId']  # Usamos el ID del juego como identificador\n",
    "    \n",
    "    # Insertar el embedding en Pinecone\n",
    "    index.upsert([(str(game_id), embedding_vector.tolist())])\n",
    "\n",
    "print(\"Embeddings subidos a Pinecone correctamente.\")"
   ]
  },
  {
   "cell_type": "code",
   "execution_count": 13,
   "metadata": {},
   "outputs": [],
   "source": [
    "# Función para recomendar juegos utilizando Pinecone y valoraciones ponderadas\n",
    "def recomendar_juegos_pinecone_con_valoraciones(prompt, model, index, df_juegos, top_n=5, w=0.7):\n",
    "    # Generar el embedding del prompt usando Doc2Vec\n",
    "    prompt_vector = model.infer_vector(prompt.split())\n",
    "\n",
    "    # Realizar la consulta en Pinecone\n",
    "    result = index.query(vector=prompt_vector.tolist(), top_k=top_n, include_values=False)\n",
    "\n",
    "    # Obtener las recomendaciones\n",
    "    recomendaciones = []\n",
    "    for match in result['matches']:\n",
    "        game_id = match['id']\n",
    "        score = match['score']\n",
    "\n",
    "        # Buscar el juego en el DataFrame por su ID\n",
    "        game_row = df_juegos[df_juegos['BGGId'] == int(game_id)]\n",
    "        if not game_row.empty:\n",
    "            valoracion = game_row['Average_Rating'].values[0] / 10  # Normalizamos la valoración (si está en rango 0-10)\n",
    "            similaridad_ponderada = (score * w) + (valoracion * (1 - w))\n",
    "            recomendaciones.append((game_row['Name'].values[0], similaridad_ponderada, score, valoracion))\n",
    "\n",
    "    # Ordenar por similaridad ponderada\n",
    "    recomendaciones.sort(key=lambda x: x[1], reverse=True)\n",
    "\n",
    "    # Mostrar los resultados\n",
    "    print(\"Juegos recomendados:\")\n",
    "    for rec in recomendaciones:\n",
    "        print(f\"{rec[0]} (Similaridad ponderada: {rec[1]:.4f}, Similaridad: {rec[2]:.4f}, Valoración: {rec[3]:.2f})\")\n",
    "\n"
   ]
  },
  {
   "cell_type": "code",
   "execution_count": 14,
   "metadata": {},
   "outputs": [
    {
     "name": "stdout",
     "output_type": "stream",
     "text": [
      "Juegos recomendados:\n",
      "A Bagel Break (Similaridad ponderada: 0.4072, Similaridad: 0.5817, Valoración: 0.00)\n",
      "Party Time with Winnie the Pooh (Similaridad ponderada: 0.3932, Similaridad: 0.5618, Valoración: 0.00)\n",
      "Alpha Blast (Similaridad ponderada: 0.3896, Similaridad: 0.5566, Valoración: 0.00)\n",
      "Limbo: The Passing (Similaridad ponderada: 0.3816, Similaridad: 0.5451, Valoración: 0.00)\n",
      "Köpcentrum (Similaridad ponderada: 0.3767, Similaridad: 0.5381, Valoración: 0.00)\n"
     ]
    }
   ],
   "source": [
    "# Prompt del usuario\n",
    "prompt_usuario = 'I love solo games with rich storytelling and immersive themes.'\n",
    "\n",
    "# Ejecutar la recomendación\n",
    "recomendar_juegos_pinecone_con_valoraciones(prompt_usuario, model, index, df_juegos)"
   ]
  }
 ],
 "metadata": {
  "kernelspec": {
   "display_name": "base",
   "language": "python",
   "name": "python3"
  },
  "language_info": {
   "codemirror_mode": {
    "name": "ipython",
    "version": 3
   },
   "file_extension": ".py",
   "mimetype": "text/x-python",
   "name": "python",
   "nbconvert_exporter": "python",
   "pygments_lexer": "ipython3",
   "version": "3.9.19"
  }
 },
 "nbformat": 4,
 "nbformat_minor": 2
}
